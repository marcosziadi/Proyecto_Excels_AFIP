{
 "cells": [
  {
   "cell_type": "code",
   "execution_count": 25,
   "metadata": {},
   "outputs": [],
   "source": [
    "import os\n",
    "import pandas as pd\n",
    "import glob\n",
    "from openpyxl import load_workbook\n",
    "from openpyxl.styles import Font, NamedStyle, Alignment"
   ]
  },
  {
   "cell_type": "code",
   "execution_count": 26,
   "metadata": {},
   "outputs": [],
   "source": [
    "def get_excel_files(user_name: str) -> list:\n",
    "    all_files = os.listdir(os.path.join(\"C:\\\\Users\",\"Marcos\",\"Desktop\", \"Meses\"))\n",
    "    excel_files = []\n",
    "    for file in all_files:\n",
    "        if file.endswith(\".xlsx\"):\n",
    "            excel_files.append(\"C:/Users/Marcos/Desktop/Meses/\" + file)\n",
    "    \n",
    "    return excel_files"
   ]
  },
  {
   "cell_type": "code",
   "execution_count": 27,
   "metadata": {},
   "outputs": [],
   "source": [
    "cuits = pd.read_excel('C:/Users/Marcos/Desktop/CUITS.xlsx')\n",
    "# file_paths = glob.glob('C:/Users/Marcos/Desktop/Meses/*.xlsx')\n",
    "file_paths = get_excel_files(1)"
   ]
  },
  {
   "cell_type": "code",
   "execution_count": 30,
   "metadata": {},
   "outputs": [
    {
     "ename": "AttributeError",
     "evalue": "can't set attribute 'book'",
     "output_type": "error",
     "traceback": [
      "\u001b[1;31m---------------------------------------------------------------------------\u001b[0m",
      "\u001b[1;31mAttributeError\u001b[0m                            Traceback (most recent call last)",
      "Cell \u001b[1;32mIn[30], line 23\u001b[0m\n\u001b[0;32m     21\u001b[0m wb \u001b[39m=\u001b[39m load_workbook(excel_filepath)\n\u001b[0;32m     22\u001b[0m writer \u001b[39m=\u001b[39m pd\u001b[39m.\u001b[39mExcelWriter(excel_filepath, engine\u001b[39m=\u001b[39m\u001b[39m'\u001b[39m\u001b[39mopenpyxl\u001b[39m\u001b[39m'\u001b[39m, mode\u001b[39m=\u001b[39m\u001b[39m'\u001b[39m\u001b[39ma\u001b[39m\u001b[39m'\u001b[39m)\n\u001b[1;32m---> 23\u001b[0m writer\u001b[39m.\u001b[39;49mbook \u001b[39m=\u001b[39m wb\n\u001b[0;32m     24\u001b[0m writer\u001b[39m.\u001b[39msheets \u001b[39m=\u001b[39m \u001b[39mdict\u001b[39m((ws\u001b[39m.\u001b[39mtitle, ws) \u001b[39mfor\u001b[39;00m ws \u001b[39min\u001b[39;00m wb\u001b[39m.\u001b[39mworksheets)\n\u001b[0;32m     25\u001b[0m data_excel \u001b[39m=\u001b[39m pd\u001b[39m.\u001b[39mread_excel(excel_filepath, sheet_name\u001b[39m=\u001b[39m\u001b[39m\"\u001b[39m\u001b[39mVENTAS NUEVO\u001b[39m\u001b[39m\"\u001b[39m, usecols\u001b[39m=\u001b[39m\u001b[39m\"\u001b[39m\u001b[39mA:E\u001b[39m\u001b[39m\"\u001b[39m)\n",
      "\u001b[1;31mAttributeError\u001b[0m: can't set attribute 'book'"
     ]
    }
   ],
   "source": [
    "style = NamedStyle(name=\"Style\")\n",
    "style.font = Font(name=\"Calibri\", size=11) \n",
    "i=0\n",
    "for c in range(len(cuits)):\n",
    "    if i != len(file_paths):\n",
    "        alldata_emitidos = pd.DataFrame()\n",
    "        alldata_recibidos = pd.DataFrame()\n",
    "        for file_path in file_paths:\n",
    "            if str(cuits.iloc[c,1]) in file_path:\n",
    "                if 'Emitidos' in file_path:\n",
    "                    alldata_emitidos = pd.concat([alldata_emitidos, pd.read_excel(file_path,skiprows=1)], axis=0, ignore_index=True).reset_index(drop=True)\n",
    "                    # alldata_emitidos = alldata_emitidos.sort_values(by='row_number', ascending=False).reset_index(drop=True)\n",
    "                else:\n",
    "                    alldata_recibidos = pd.concat([alldata_recibidos, pd.read_excel(file_path,skiprows=1)], axis=0, ignore_index=True).reset_index(drop=True)  \n",
    "                    # alldata_recibidos = alldata_recibidos.sort_values(by='row_number', ascending=False).reset_index(drop=True)\n",
    "                i+=1\n",
    "        if len(alldata_emitidos) > 0:\n",
    "            data_nueva = alldata_emitidos[['Fecha', 'Tipo', 'Número Desde', 'Denominación Receptor', 'Imp. Total']].sort_values(by='Fecha', ascending=True)\n",
    "            excel_filepath = f'C:/Users/Marcos/Desktop/Oficina/Monotributo/{cuits.iloc[c, 0]}.xlsx'\n",
    "\n",
    "            wb = load_workbook(excel_filepath)\n",
    "            writer = pd.ExcelWriter(excel_filepath, engine='openpyxl', mode='a')\n",
    "            writer.book = wb\n",
    "            writer.sheets = dict((ws.title, ws) for ws in wb.worksheets)\n",
    "            data_excel = pd.read_excel(excel_filepath, sheet_name=\"VENTAS NUEVO\", usecols=\"A:E\")\n",
    "            size = len(data_excel)\n",
    "            data_excel = data_excel.append(data_nueva, ignore_index=True)\n",
    "            data_excel.to_excel(writer, sheet_name=\"VENTAS NUEVO\", index=False, header=False, startrow=5)\n",
    "            \n",
    "            # wb = load_workbook(excel_filepath)\n",
    "            # data_excel = pd.read_excel(excel_filepath, sheet_name=\"VENTAS NUEVO\", usecols=\"A:E\")\n",
    "            # size = len(data_excel)\n",
    "            # data_excel = data_excel.append(data_nueva, ignore_index=True)\n",
    "            # with pd.ExcelWriter(excel_filepath, engine='openpyxl', mode='a') as writer:\n",
    "            #     writer.book = wb\n",
    "            #     writer.sheets = dict((ws.title, ws) for ws in wb.worksheets)\n",
    "            #     data_excel.to_excel(writer, sheet_name=\"VENTAS NUEVO\", index=False, header=False, startrow=5)\n",
    "            for row in wb[\"VENTAS NUEVO\"].iter_rows(min_row=(size+5), max_row=(len(data_excel)+5), min_col=1, max_col=5):\n",
    "                for cell in row:\n",
    "                    if cell.column == 3:\n",
    "                        cell.alignment = Alignment(horizontal=\"center\")\n",
    "                    cell.style = style\n",
    "            wb.save(excel_filepath)\n",
    "        if len(alldata_recibidos) > 0:\n",
    "            data_nueva = alldata_recibidos[['Fecha', 'Tipo', 'Número Desde', 'Denominación Emisor', 'Imp. Total']].sort_values(by='Fecha', ascending=True)\n",
    "            excel_filepath = f'C:/Users/Marcos/Desktop/Oficina/Monotributo/{cuits.iloc[c, 0]}.xlsx'\n",
    "            \n",
    "            wb = load_workbook(excel_filepath)\n",
    "            writer = pd.ExcelWriter(excel_filepath, engine='openpyxl', mode='a')\n",
    "            writer.book = wb\n",
    "            writer.sheets = dict((ws.title, ws) for ws in wb.worksheets)\n",
    "            data_excel = pd.read_excel(excel_filepath, sheet_name=\"COMPRAS NUEVO\", usecols=\"A:E\")\n",
    "            size = len(data_excel)\n",
    "            data_excel = data_excel.append(data_nueva, ignore_index=True)\n",
    "            data_excel.to_excel(writer, sheet_name=\"COMPRAS NUEVO\", index=False, header=False, startrow=5)\n",
    "            \n",
    "            # wb = load_workbook(excel_filepath)\n",
    "            # data_excel = pd.read_excel(excel_filepath, sheet_name=\"COMPRAS NUEVO\", usecols=\"A:E\")\n",
    "            # size = len(data_excel)\n",
    "            # data_excel = data_excel.append(data_nueva, ignore_index=True)\n",
    "            # with pd.ExcelWriter(excel_filepath, engine='openpyxl', mode='a') as writer:\n",
    "            #     writer.book = wb\n",
    "            #     writer.sheets = dict((ws.title, ws) for ws in wb.worksheets)\n",
    "            #     data_excel.to_excel(writer, sheet_name=\"COMPRAS NUEVO\", index=False, header=False, startrow=5)\n",
    "            for row in wb[\"COMPRAS NUEVO\"].iter_rows(min_row=(size+5), max_row=(len(data_excel)+5), min_col=1, max_col=5):\n",
    "                for cell in row:\n",
    "                    cell.style = style\n",
    "            wb.save(excel_filepath)\n",
    "    else:\n",
    "        break\n"
   ]
  },
  {
   "cell_type": "code",
   "execution_count": null,
   "metadata": {},
   "outputs": [],
   "source": []
  },
  {
   "cell_type": "code",
   "execution_count": 23,
   "metadata": {},
   "outputs": [
    {
     "data": {
      "text/plain": [
       "range(0, 88)"
      ]
     },
     "execution_count": 23,
     "metadata": {},
     "output_type": "execute_result"
    }
   ],
   "source": [
    "if(length(all_data_emitidos) > 0){\n",
    "    data_final <- arrange(subset(all_data_emitidos, select = c('Fecha', 'Tipo', 'Número Desde', 'Denominación Receptor', 'Imp. Total')), desc(row_number()))\n",
    "    #colnames(data_final) <- c(\"Fecha\", \"Tipo\", \"Nro Factura\", \"Denom. Receptor\", \"Imp. Total\")\n",
    "    data_final$Fecha <- as.Date(data_final$Fecha, format = \"%d/%m/%Y\")\n",
    "    data_final <- data_final[order(data_final$Fecha), ]\n",
    "    data_final$Fecha <- format(data_final$Fecha, format = \"%d/%m/%Y\")\n",
    "    \n",
    "    file_path_a <- paste0(\"C:/Users/Marcos/Desktop/Oficina/Monotributo/\",clientes_cuit[c,1],\".xlsx\")\n",
    "    wb <- loadWorkbook(file_path_a)\n",
    "    excel_cliente <- read_xlsx(file_path_a, sheet = \"VENTAS NUEVO\", range = cell_cols(1:5))\n",
    "    size <- nrow(excel_cliente)\n",
    "    excel_cliente$Fecha <- format(excel_cliente$Fecha, format = \"%d/%m/%Y\")\n",
    "    excel_cliente <- rbind(excel_cliente,data_final)\n",
    "    writeData(wb, sheet = \"VENTAS NUEVO\", x = excel_cliente, startRow = 6, startCol = 1)\n",
    "    \n",
    "    for(i in 1:nrow(data_final)){\n",
    "      b=size+6+i\n",
    "      addStyle(wb, sheet = \"VENTAS NUEVO\", rows = b, cols = 1:5, style = createStyle(fontName = \"Calibri\", fontSize = 11))\n",
    "    }\n",
    "    addStyle(wb, sheet = \"VENTAS NUEVO\", rows = 7:(nrow(excel_cliente)+7), cols = 3, style =  createStyle(halign = \"center\", fontName = \"Calibri\", fontSize = 11))\n",
    "    saveWorkbook(wb, file_path_a, overwrite = TRUE)\n",
    "  }"
   ]
  },
  {
   "cell_type": "code",
   "execution_count": 12,
   "metadata": {},
   "outputs": [],
   "source": []
  },
  {
   "cell_type": "code",
   "execution_count": 13,
   "metadata": {},
   "outputs": [
    {
     "data": {
      "text/html": [
       "<div>\n",
       "<style scoped>\n",
       "    .dataframe tbody tr th:only-of-type {\n",
       "        vertical-align: middle;\n",
       "    }\n",
       "\n",
       "    .dataframe tbody tr th {\n",
       "        vertical-align: top;\n",
       "    }\n",
       "\n",
       "    .dataframe thead th {\n",
       "        text-align: right;\n",
       "    }\n",
       "</style>\n",
       "<table border=\"1\" class=\"dataframe\">\n",
       "  <thead>\n",
       "    <tr style=\"text-align: right;\">\n",
       "      <th></th>\n",
       "      <th>Fecha</th>\n",
       "      <th>Tipo</th>\n",
       "      <th>Número Desde</th>\n",
       "      <th>Denominación Receptor</th>\n",
       "      <th>Imp. Total</th>\n",
       "    </tr>\n",
       "  </thead>\n",
       "  <tbody>\n",
       "    <tr>\n",
       "      <th>0</th>\n",
       "      <td>10/08/2023</td>\n",
       "      <td>11 - Factura C</td>\n",
       "      <td>271</td>\n",
       "      <td>INSTITUTO MEDICO ASISTENCIAL IMA COOPERATIVA D...</td>\n",
       "      <td>17166.30</td>\n",
       "    </tr>\n",
       "    <tr>\n",
       "      <th>1</th>\n",
       "      <td>10/08/2023</td>\n",
       "      <td>11 - Factura C</td>\n",
       "      <td>272</td>\n",
       "      <td>INSTITUTO MEDICO ASISTENCIAL IMA COOPERATIVA D...</td>\n",
       "      <td>112417.86</td>\n",
       "    </tr>\n",
       "    <tr>\n",
       "      <th>2</th>\n",
       "      <td>28/08/2023</td>\n",
       "      <td>11 - Factura C</td>\n",
       "      <td>273</td>\n",
       "      <td>FIDEICOMISO DE EXPLOTACION Y ADMINISTRACION DE...</td>\n",
       "      <td>280282.38</td>\n",
       "    </tr>\n",
       "    <tr>\n",
       "      <th>3</th>\n",
       "      <td>31/08/2023</td>\n",
       "      <td>11 - Factura C</td>\n",
       "      <td>274</td>\n",
       "      <td>POZZI DANIEL ALFREDO</td>\n",
       "      <td>250000.00</td>\n",
       "    </tr>\n",
       "  </tbody>\n",
       "</table>\n",
       "</div>"
      ],
      "text/plain": [
       "        Fecha            Tipo  Número Desde  \\\n",
       "0  10/08/2023  11 - Factura C           271   \n",
       "1  10/08/2023  11 - Factura C           272   \n",
       "2  28/08/2023  11 - Factura C           273   \n",
       "3  31/08/2023  11 - Factura C           274   \n",
       "\n",
       "                               Denominación Receptor  Imp. Total  \n",
       "0  INSTITUTO MEDICO ASISTENCIAL IMA COOPERATIVA D...    17166.30  \n",
       "1  INSTITUTO MEDICO ASISTENCIAL IMA COOPERATIVA D...   112417.86  \n",
       "2  FIDEICOMISO DE EXPLOTACION Y ADMINISTRACION DE...   280282.38  \n",
       "3                               POZZI DANIEL ALFREDO   250000.00  "
      ]
     },
     "execution_count": 13,
     "metadata": {},
     "output_type": "execute_result"
    }
   ],
   "source": []
  }
 ],
 "metadata": {
  "kernelspec": {
   "display_name": "Python 3.10.10 64-bit",
   "language": "python",
   "name": "python3"
  },
  "language_info": {
   "codemirror_mode": {
    "name": "ipython",
    "version": 3
   },
   "file_extension": ".py",
   "mimetype": "text/x-python",
   "name": "python",
   "nbconvert_exporter": "python",
   "pygments_lexer": "ipython3",
   "version": "3.10.10"
  },
  "orig_nbformat": 4,
  "vscode": {
   "interpreter": {
    "hash": "b135b0e7559d507a7c9594984284614d9a5503c121ae1b789f2c8989ff99b9f5"
   }
  }
 },
 "nbformat": 4,
 "nbformat_minor": 2
}
