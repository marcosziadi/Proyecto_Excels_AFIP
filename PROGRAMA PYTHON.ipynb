{
 "cells": [
  {
   "cell_type": "code",
   "execution_count": 1,
   "metadata": {},
   "outputs": [],
   "source": [
    "import os\n",
    "import pandas as pd\n",
    "import glob\n",
    "import openpyxl\n",
    "# from openpyxl import load_workbook\n",
    "from openpyxl.styles import Font, NamedStyle, Alignment\n",
    "from openpyxl.utils.dataframe import dataframe_to_rows"
   ]
  },
  {
   "cell_type": "code",
   "execution_count": 2,
   "metadata": {},
   "outputs": [],
   "source": [
    "def get_excel_files(user_name: str) -> list:\n",
    "    all_files = os.listdir(os.path.join(\"C:\\\\Users\",\"Marcos\",\"Desktop\", \"Meses\"))\n",
    "    excel_files = []\n",
    "    for file in all_files:\n",
    "        if file.endswith(\".xlsx\"):\n",
    "            excel_files.append(\"C:/Users/Marcos/Desktop/Meses/\" + file)\n",
    "    return excel_files"
   ]
  },
  {
   "cell_type": "code",
   "execution_count": 3,
   "metadata": {},
   "outputs": [],
   "source": [
    "cuits = pd.read_excel('C:/Users/Marcos/Desktop/CUITS.xlsx')\n",
    "file_paths = get_excel_files(1)"
   ]
  },
  {
   "cell_type": "code",
   "execution_count": 8,
   "metadata": {},
   "outputs": [],
   "source": [
    "i=0\n",
    "for c in range(len(cuits)):\n",
    "    if i != len(file_paths):\n",
    "        alldata_emitidos = pd.DataFrame()\n",
    "        alldata_recibidos = pd.DataFrame()\n",
    "        for file_path in file_paths:\n",
    "            if str(cuits.iloc[c,1]) in file_path:\n",
    "                if 'Emitidos' in file_path:\n",
    "                    alldata_emitidos = pd.concat([alldata_emitidos, pd.read_excel(file_path,skiprows=1)], axis=0, ignore_index=True).reset_index(drop=True)\n",
    "                else:\n",
    "                    alldata_recibidos = pd.concat([alldata_recibidos, pd.read_excel(file_path,skiprows=1)], axis=0, ignore_index=True).reset_index(drop=True)  \n",
    "                i+=1\n",
    "        if len(alldata_emitidos) > 0:\n",
    "            alldata_emitidos['Fecha'] = pd.to_datetime(alldata_emitidos['Fecha'], format='%d/%m/%Y')\n",
    "            alldata_emitidos = alldata_emitidos.sort_values(by='Fecha', ascending=True).reset_index(drop=True)\n",
    "            alldata_emitidos['Fecha'] = alldata_emitidos['Fecha'].dt.strftime('%d/%m/%Y')\n",
    "            data_nueva = alldata_emitidos[['Fecha', 'Tipo', 'Número Desde', 'Denominación Receptor', 'Imp. Total']]\n",
    "            excel_filepath = f'C:/Users/Marcos/Desktop/Oficina/Monotributo/{cuits.iloc[c, 0]}.xlsx'\n",
    "            data_excel = pd.read_excel(excel_filepath, sheet_name=\"VENTAS NUEVO\", usecols=\"A:E\", skiprows=5)\n",
    "            size = len(data_excel)\n",
    "            wb = openpyxl.load_workbook(excel_filepath)\n",
    "            sheet = wb['VENTAS NUEVO']\n",
    "            for row_idx, row in enumerate(openpyxl.utils.dataframe.dataframe_to_rows(data_nueva, index=False, header=False), (size+7)):\n",
    "                for col_idx, value in enumerate(row, 1):\n",
    "                    sheet.cell(row=row_idx, column=col_idx, value=value)\n",
    "            for row in wb[\"VENTAS NUEVO\"].iter_rows(min_row=(size+7), max_row=(size+len(data_nueva)+7), min_col=1, max_col=5):\n",
    "                for cell in row:\n",
    "                    cell.font = Font(name=\"Calibri\", size=11) \n",
    "                    if cell.column == 1:\n",
    "                        cell.alignment = Alignment(horizontal=\"right\")  \n",
    "                    elif cell.column == 3:\n",
    "                        cell.alignment = Alignment(horizontal=\"center\")  \n",
    "            wb.save(excel_filepath)\n",
    "        if len(alldata_recibidos) > 0:\n",
    "            alldata_recibidos['Fecha'] = pd.to_datetime(alldata_recibidos['Fecha'], format='%d/%m/%Y')\n",
    "            alldata_recibidos = alldata_recibidos.sort_values(by='Fecha', ascending=True).reset_index(drop=True)\n",
    "            alldata_recibidos['Fecha'] = alldata_recibidos['Fecha'].dt.strftime('%d/%m/%Y')\n",
    "            data_nueva = alldata_recibidos[['Fecha', 'Tipo', 'Número Desde', 'Denominación Emisor', 'Imp. Total']]\n",
    "            excel_filepath = f'C:/Users/Marcos/Desktop/Oficina/Monotributo/{cuits.iloc[c, 0]}.xlsx'\n",
    "            data_excel = pd.read_excel(excel_filepath, sheet_name=\"COMPRAS NUEVO\", usecols=\"A:E\", skiprows=5)\n",
    "            size = len(data_excel)\n",
    "            wb = openpyxl.load_workbook(excel_filepath)\n",
    "            sheet = wb['COMPRAS NUEVO']\n",
    "            for row_idx, row in enumerate(openpyxl.utils.dataframe.dataframe_to_rows(data_nueva, index=False, header=False), (size+7)):\n",
    "                for col_idx, value in enumerate(row, 1):\n",
    "                    sheet.cell(row=row_idx, column=col_idx, value=value)\n",
    "            for row in wb[\"COMPRAS NUEVO\"].iter_rows(min_row=(size+7), max_row=(size+len(data_nueva)+7), min_col=1, max_col=5):\n",
    "                for cell in row:\n",
    "                    cell.font = Font(name=\"Calibri\", size=11) \n",
    "                    if cell.column == 1:\n",
    "                        cell.alignment = Alignment(horizontal=\"right\")  \n",
    "            wb.save(excel_filepath)\n",
    "    else:\n",
    "        break\n"
   ]
  },
  {
   "cell_type": "code",
   "execution_count": null,
   "metadata": {},
   "outputs": [],
   "source": []
  },
  {
   "cell_type": "code",
   "execution_count": null,
   "metadata": {},
   "outputs": [],
   "source": []
  },
  {
   "cell_type": "code",
   "execution_count": null,
   "metadata": {},
   "outputs": [],
   "source": []
  },
  {
   "cell_type": "code",
   "execution_count": 12,
   "metadata": {},
   "outputs": [],
   "source": []
  },
  {
   "cell_type": "code",
   "execution_count": 24,
   "metadata": {},
   "outputs": [],
   "source": []
  },
  {
   "cell_type": "code",
   "execution_count": null,
   "metadata": {},
   "outputs": [],
   "source": []
  }
 ],
 "metadata": {
  "kernelspec": {
   "display_name": "Python 3.10.10 64-bit",
   "language": "python",
   "name": "python3"
  },
  "language_info": {
   "codemirror_mode": {
    "name": "ipython",
    "version": 3
   },
   "file_extension": ".py",
   "mimetype": "text/x-python",
   "name": "python",
   "nbconvert_exporter": "python",
   "pygments_lexer": "ipython3",
   "version": "3.10.10"
  },
  "orig_nbformat": 4,
  "vscode": {
   "interpreter": {
    "hash": "b135b0e7559d507a7c9594984284614d9a5503c121ae1b789f2c8989ff99b9f5"
   }
  }
 },
 "nbformat": 4,
 "nbformat_minor": 2
}
