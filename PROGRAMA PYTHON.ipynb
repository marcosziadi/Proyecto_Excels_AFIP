{
 "cells": [
  {
   "cell_type": "code",
   "execution_count": 1,
   "metadata": {},
   "outputs": [],
   "source": [
    "import os\n",
    "import pandas as pd\n",
    "import glob\n",
    "import openpyxl\n",
    "# from openpyxl import load_workbook\n",
    "from openpyxl.styles import Font, NamedStyle, Alignment\n",
    "from openpyxl.utils.dataframe import dataframe_to_rows"
   ]
  },
  {
   "cell_type": "code",
   "execution_count": 2,
   "metadata": {},
   "outputs": [],
   "source": [
    "def get_excel_files(user_name: str) -> list:\n",
    "    all_files = os.listdir(os.path.join(\"C:\\\\Users\",\"Marcos\",\"Desktop\", \"Meses\"))\n",
    "    excel_files = []\n",
    "    for file in all_files:\n",
    "        if file.endswith(\".xlsx\"):\n",
    "            excel_files.append(\"C:/Users/Marcos/Desktop/Meses/\" + file)\n",
    "    return excel_files"
   ]
  },
  {
   "cell_type": "code",
   "execution_count": 3,
   "metadata": {},
   "outputs": [],
   "source": [
    "def nota_de_credito(data_nueva: pd.DataFrame) -> pd.DataFrame:\n",
    "    for i in range(len(data_nueva)):\n",
    "        if \"Nota de Crédito\" in data_nueva.iloc[i,1]:\n",
    "            data_nueva.iloc[i,4] = data_nueva.iloc[i,4]*-1\n",
    "    return data_nueva"
   ]
  },
  {
   "cell_type": "code",
   "execution_count": 4,
   "metadata": {},
   "outputs": [],
   "source": [
    "def data_cronologica(data: pd.DataFrame) -> pd.DataFrame:\n",
    "    data['Fecha'] = pd.to_datetime(data['Fecha'], format='%d/%m/%Y')\n",
    "    data = data.sort_values(by='Fecha', ascending=True).reset_index(drop=True)\n",
    "    data['Fecha'] = data['Fecha'].dt.strftime('%d/%m/%Y') \n",
    "    return data"
   ]
  },
  {
   "cell_type": "code",
   "execution_count": 8,
   "metadata": {},
   "outputs": [],
   "source": [
    "cuits = pd.read_excel('C:/Users/Marcos/Desktop/PRUEBA CUITS.xlsx')\n",
    "file_paths = get_excel_files(1)"
   ]
  },
  {
   "cell_type": "code",
   "execution_count": 31,
   "metadata": {},
   "outputs": [],
   "source": [
    "# def clientes_cuits_meses(file_paths: list, cuits: pd.DataFrame) -> pd.DataFrame:\n",
    "#     clientes_cuits = []\n",
    "#     for c in range(len(cuits)):\n",
    "#         for file_path in file_paths:\n",
    "#             if str(cuits.iloc[c,1]) in file_path:\n",
    "#                 clientes_cuits.append(cuits.iloc[c,:])\n",
    "#     clientes_cuits = pd.DataFrame(clientes_cuits)\n",
    "#     clientes_cuits = clientes_cuits.drop_duplicates(subset='CUIT')\n",
    "#     return clientes_cuits"
   ]
  },
  {
   "cell_type": "code",
   "execution_count": 9,
   "metadata": {},
   "outputs": [
    {
     "name": "stderr",
     "output_type": "stream",
     "text": [
      "C:\\Users\\Marcos\\AppData\\Local\\Temp\\ipykernel_3524\\2376503356.py:2: SettingWithCopyWarning: \n",
      "A value is trying to be set on a copy of a slice from a DataFrame.\n",
      "Try using .loc[row_indexer,col_indexer] = value instead\n",
      "\n",
      "See the caveats in the documentation: https://pandas.pydata.org/pandas-docs/stable/user_guide/indexing.html#returning-a-view-versus-a-copy\n",
      "  data['Fecha'] = pd.to_datetime(data['Fecha'], format='%d/%m/%Y')\n",
      "C:\\Users\\Marcos\\AppData\\Local\\Temp\\ipykernel_3524\\2376503356.py:2: SettingWithCopyWarning: \n",
      "A value is trying to be set on a copy of a slice from a DataFrame.\n",
      "Try using .loc[row_indexer,col_indexer] = value instead\n",
      "\n",
      "See the caveats in the documentation: https://pandas.pydata.org/pandas-docs/stable/user_guide/indexing.html#returning-a-view-versus-a-copy\n",
      "  data['Fecha'] = pd.to_datetime(data['Fecha'], format='%d/%m/%Y')\n",
      "C:\\Users\\Marcos\\AppData\\Local\\Temp\\ipykernel_3524\\2376503356.py:2: SettingWithCopyWarning: \n",
      "A value is trying to be set on a copy of a slice from a DataFrame.\n",
      "Try using .loc[row_indexer,col_indexer] = value instead\n",
      "\n",
      "See the caveats in the documentation: https://pandas.pydata.org/pandas-docs/stable/user_guide/indexing.html#returning-a-view-versus-a-copy\n",
      "  data['Fecha'] = pd.to_datetime(data['Fecha'], format='%d/%m/%Y')\n",
      "C:\\Users\\Marcos\\AppData\\Local\\Temp\\ipykernel_3524\\2376503356.py:2: SettingWithCopyWarning: \n",
      "A value is trying to be set on a copy of a slice from a DataFrame.\n",
      "Try using .loc[row_indexer,col_indexer] = value instead\n",
      "\n",
      "See the caveats in the documentation: https://pandas.pydata.org/pandas-docs/stable/user_guide/indexing.html#returning-a-view-versus-a-copy\n",
      "  data['Fecha'] = pd.to_datetime(data['Fecha'], format='%d/%m/%Y')\n"
     ]
    }
   ],
   "source": [
    "i=0\n",
    "# cuits_clientes=clientes_cuits_meses(file_paths,cuits)\n",
    "for c in range(len(cuits)):\n",
    "    a=0\n",
    "    if i != len(file_paths):\n",
    "        alldata_emitidos = pd.DataFrame()\n",
    "        alldata_recibidos = pd.DataFrame()\n",
    "        for file_path in file_paths:\n",
    "            if str(cuits.iloc[c,1]) in file_path:\n",
    "                if 'Emitidos' in file_path:\n",
    "                    alldata_emitidos = pd.concat([alldata_emitidos, pd.read_excel(file_path,skiprows=1)], axis=0, ignore_index=True).reset_index(drop=True)\n",
    "                else:\n",
    "                    alldata_recibidos = pd.concat([alldata_recibidos, pd.read_excel(file_path,skiprows=1)], axis=0, ignore_index=True).reset_index(drop=True)  \n",
    "                i+=1\n",
    "        if len(alldata_emitidos) > 0:\n",
    "            data_nueva = data_cronologica(alldata_emitidos[['Fecha', 'Tipo', 'Número Desde', 'Denominación Receptor', 'Imp. Total']])\n",
    "            data_nueva = nota_de_credito(data_nueva)\n",
    "            excel_filepath = f'C:/Users/Marcos/Desktop/Oficina/Monotributo/{cuits.iloc[c, 0]}.xlsx'\n",
    "            data_excel = pd.read_excel(excel_filepath, sheet_name=\"VENTAS NUEVO\", usecols=\"A:E\", skiprows=5)\n",
    "            size = len(data_excel)\n",
    "            wb = openpyxl.load_workbook(excel_filepath)\n",
    "            sheet = wb['VENTAS NUEVO']\n",
    "            for row_idx, row in enumerate(openpyxl.utils.dataframe.dataframe_to_rows(data_nueva, index=False, header=False), (size+7)):\n",
    "                for col_idx, value in enumerate(row, 1):\n",
    "                    sheet.cell(row=row_idx, column=col_idx, value=value)\n",
    "            for row in wb[\"VENTAS NUEVO\"].iter_rows(min_row=(size+7), max_row=(size+len(data_nueva)+7), min_col=1, max_col=5):\n",
    "                for cell in row:\n",
    "                    cell.font = Font(name=\"Calibri\", size=11) \n",
    "                    if cell.column == 1:\n",
    "                        cell.alignment = Alignment(horizontal=\"right\")  \n",
    "                    elif cell.column == 3:\n",
    "                        cell.alignment = Alignment(horizontal=\"center\")  \n",
    "            wb.save(excel_filepath)\n",
    "        if len(alldata_recibidos) > 0:\n",
    "            data_nueva = data_cronologica(alldata_recibidos[['Fecha', 'Tipo', 'Número Desde', 'Denominación Emisor', 'Imp. Total']])\n",
    "            data_nueva = nota_de_credito(data_nueva)\n",
    "            excel_filepath = f'C:/Users/Marcos/Desktop/Oficina/Monotributo/{cuits.iloc[c, 0]}.xlsx'\n",
    "            data_excel = pd.read_excel(excel_filepath, sheet_name=\"COMPRAS NUEVO\", usecols=\"A:E\", skiprows=5)\n",
    "            size = len(data_excel)\n",
    "            wb = openpyxl.load_workbook(excel_filepath)\n",
    "            sheet = wb['COMPRAS NUEVO']\n",
    "            for row_idx, row in enumerate(openpyxl.utils.dataframe.dataframe_to_rows(data_nueva, index=False, header=False), (size+7)):\n",
    "                for col_idx, value in enumerate(row, 1):\n",
    "                    sheet.cell(row=row_idx, column=col_idx, value=value)\n",
    "            for row in wb[\"COMPRAS NUEVO\"].iter_rows(min_row=(size+7), max_row=(size+len(data_nueva)+7), min_col=1, max_col=5):\n",
    "                for cell in row:\n",
    "                    cell.font = Font(name=\"Calibri\", size=11) \n",
    "                    if cell.column == 1:\n",
    "                        cell.alignment = Alignment(horizontal=\"right\")  \n",
    "            wb.save(excel_filepath)\n",
    "    else:\n",
    "        break"
   ]
  },
  {
   "cell_type": "code",
   "execution_count": null,
   "metadata": {},
   "outputs": [],
   "source": []
  },
  {
   "cell_type": "code",
   "execution_count": null,
   "metadata": {},
   "outputs": [],
   "source": []
  },
  {
   "cell_type": "code",
   "execution_count": 14,
   "metadata": {},
   "outputs": [
    {
     "name": "stdout",
     "output_type": "stream",
     "text": [
      "ANSALDI NELIA\n",
      "SANTIAGO MONTI\n"
     ]
    }
   ],
   "source": [
    "cuits = pd.read_excel('C:/Users/Marcos/Desktop/CUITS.xlsx')\n",
    "file_paths = get_excel_files(1)\n",
    "clientes_cuits = []\n",
    "for c in range(len(cuits)):\n",
    "    for file_path in file_paths:\n",
    "        if str(cuits.iloc[c,1]) in file_path:\n",
    "            clientes_cuits.append(cuits.iloc[c,0])\n",
    "clientes_cuits = list(set(clientes_cuits))\n",
    "for cliente in clientes_cuits:\n",
    "    print(cliente)"
   ]
  },
  {
   "cell_type": "code",
   "execution_count": 12,
   "metadata": {},
   "outputs": [],
   "source": []
  },
  {
   "cell_type": "code",
   "execution_count": 24,
   "metadata": {},
   "outputs": [],
   "source": []
  },
  {
   "cell_type": "code",
   "execution_count": 6,
   "metadata": {},
   "outputs": [
    {
     "data": {
      "text/html": [
       "<div>\n",
       "<style scoped>\n",
       "    .dataframe tbody tr th:only-of-type {\n",
       "        vertical-align: middle;\n",
       "    }\n",
       "\n",
       "    .dataframe tbody tr th {\n",
       "        vertical-align: top;\n",
       "    }\n",
       "\n",
       "    .dataframe thead th {\n",
       "        text-align: right;\n",
       "    }\n",
       "</style>\n",
       "<table border=\"1\" class=\"dataframe\">\n",
       "  <thead>\n",
       "    <tr style=\"text-align: right;\">\n",
       "      <th></th>\n",
       "      <th>NOMBRE</th>\n",
       "      <th>CUIT</th>\n",
       "    </tr>\n",
       "  </thead>\n",
       "  <tbody>\n",
       "    <tr>\n",
       "      <th>0</th>\n",
       "      <td>ALVARADO EDUARDO</td>\n",
       "      <td>23130776779</td>\n",
       "    </tr>\n",
       "    <tr>\n",
       "      <th>1</th>\n",
       "      <td>ANGELOZZI</td>\n",
       "      <td>27036233368</td>\n",
       "    </tr>\n",
       "    <tr>\n",
       "      <th>2</th>\n",
       "      <td>ANSALDI NELIA</td>\n",
       "      <td>27233944128</td>\n",
       "    </tr>\n",
       "    <tr>\n",
       "      <th>3</th>\n",
       "      <td>ARREBOLA</td>\n",
       "      <td>20165364989</td>\n",
       "    </tr>\n",
       "    <tr>\n",
       "      <th>4</th>\n",
       "      <td>BARBOZA HUGO</td>\n",
       "      <td>23308384039</td>\n",
       "    </tr>\n",
       "    <tr>\n",
       "      <th>...</th>\n",
       "      <td>...</td>\n",
       "      <td>...</td>\n",
       "    </tr>\n",
       "    <tr>\n",
       "      <th>83</th>\n",
       "      <td>ZIADI SILVIA</td>\n",
       "      <td>27174624009</td>\n",
       "    </tr>\n",
       "    <tr>\n",
       "      <th>84</th>\n",
       "      <td>DICARLO VIRGINIA</td>\n",
       "      <td>27312304614</td>\n",
       "    </tr>\n",
       "    <tr>\n",
       "      <th>85</th>\n",
       "      <td>SANTIAGO MONTI</td>\n",
       "      <td>20239142932</td>\n",
       "    </tr>\n",
       "    <tr>\n",
       "      <th>86</th>\n",
       "      <td>FALTA BLANCO</td>\n",
       "      <td>asdasdasd</td>\n",
       "    </tr>\n",
       "    <tr>\n",
       "      <th>87</th>\n",
       "      <td>HACER BLANCO (? PREGUNTAR DE ULTIMA</td>\n",
       "      <td>asdasdasd</td>\n",
       "    </tr>\n",
       "  </tbody>\n",
       "</table>\n",
       "<p>88 rows × 2 columns</p>\n",
       "</div>"
      ],
      "text/plain": [
       "                                 NOMBRE         CUIT\n",
       "0                      ALVARADO EDUARDO  23130776779\n",
       "1                             ANGELOZZI  27036233368\n",
       "2                         ANSALDI NELIA  27233944128\n",
       "3                              ARREBOLA  20165364989\n",
       "4                          BARBOZA HUGO  23308384039\n",
       "..                                  ...          ...\n",
       "83                         ZIADI SILVIA  27174624009\n",
       "84                     DICARLO VIRGINIA  27312304614\n",
       "85                       SANTIAGO MONTI  20239142932\n",
       "86                         FALTA BLANCO    asdasdasd\n",
       "87  HACER BLANCO (? PREGUNTAR DE ULTIMA    asdasdasd\n",
       "\n",
       "[88 rows x 2 columns]"
      ]
     },
     "execution_count": 6,
     "metadata": {},
     "output_type": "execute_result"
    }
   ],
   "source": [
    "cuits"
   ]
  }
 ],
 "metadata": {
  "kernelspec": {
   "display_name": "Python 3.10.10 64-bit",
   "language": "python",
   "name": "python3"
  },
  "language_info": {
   "codemirror_mode": {
    "name": "ipython",
    "version": 3
   },
   "file_extension": ".py",
   "mimetype": "text/x-python",
   "name": "python",
   "nbconvert_exporter": "python",
   "pygments_lexer": "ipython3",
   "version": "3.10.10"
  },
  "orig_nbformat": 4,
  "vscode": {
   "interpreter": {
    "hash": "b135b0e7559d507a7c9594984284614d9a5503c121ae1b789f2c8989ff99b9f5"
   }
  }
 },
 "nbformat": 4,
 "nbformat_minor": 2
}
