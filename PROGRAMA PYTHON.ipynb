{
 "cells": [
  {
   "cell_type": "code",
   "execution_count": 26,
   "metadata": {},
   "outputs": [],
   "source": [
    "import os\n",
    "import pandas as pd\n",
    "import glob\n",
    "import openpyxl\n",
    "# from openpyxl import load_workbook\n",
    "from openpyxl.styles import Font, NamedStyle, Alignment\n",
    "from openpyxl.utils.dataframe import dataframe_to_rows"
   ]
  },
  {
   "cell_type": "code",
   "execution_count": 27,
   "metadata": {},
   "outputs": [],
   "source": [
    "def get_excel_files(user_name: str) -> list:\n",
    "    all_files = os.listdir(os.path.join(\"C:\\\\Users\",\"Marcos\",\"Desktop\", \"Meses\"))\n",
    "    excel_files = []\n",
    "    for file in all_files:\n",
    "        if file.endswith(\".xlsx\"):\n",
    "            excel_files.append(\"C:/Users/Marcos/Desktop/Meses/\" + file)\n",
    "    \n",
    "    return excel_files"
   ]
  },
  {
   "cell_type": "code",
   "execution_count": 28,
   "metadata": {},
   "outputs": [],
   "source": [
    "cuits = pd.read_excel('C:/Users/Marcos/Desktop/CUITS.xlsx')\n",
    "# file_paths = glob.glob('C:/Users/Marcos/Desktop/Meses/*.xlsx')\n",
    "file_paths = get_excel_files(1)"
   ]
  },
  {
   "cell_type": "code",
   "execution_count": 30,
   "metadata": {},
   "outputs": [
    {
     "name": "stderr",
     "output_type": "stream",
     "text": [
      "C:\\Users\\Marcos\\AppData\\Local\\Temp\\ipykernel_3116\\2187969739.py:22: FutureWarning: The frame.append method is deprecated and will be removed from pandas in a future version. Use pandas.concat instead.\n",
      "  data_excel = data_excel.append(data_nueva, ignore_index=True)\n",
      "C:\\Users\\Marcos\\AppData\\Local\\Temp\\ipykernel_3116\\2187969739.py:36: FutureWarning: The frame.append method is deprecated and will be removed from pandas in a future version. Use pandas.concat instead.\n",
      "  data_excel = data_excel.append(data_nueva, ignore_index=True)\n"
     ]
    }
   ],
   "source": [
    "#from openpyxl.utils.dataframe import dataframe_to_rows\n",
    "style = NamedStyle(name=\"Style\")\n",
    "style.font = Font(name=\"Calibri\", size=11) \n",
    "i=0\n",
    "for c in range(len(cuits)):\n",
    "    if i != len(file_paths):\n",
    "        alldata_emitidos = pd.DataFrame()\n",
    "        alldata_recibidos = pd.DataFrame()\n",
    "        for file_path in file_paths:\n",
    "            if str(cuits.iloc[c,1]) in file_path:\n",
    "                if 'Emitidos' in file_path:\n",
    "                    alldata_emitidos = pd.concat([alldata_emitidos, pd.read_excel(file_path,skiprows=1)], axis=0, ignore_index=True).reset_index(drop=True)\n",
    "                    # alldata_emitidos = alldata_emitidos.sort_values(by='row_number', ascending=False).reset_index(drop=True)\n",
    "                else:\n",
    "                    alldata_recibidos = pd.concat([alldata_recibidos, pd.read_excel(file_path,skiprows=1)], axis=0, ignore_index=True).reset_index(drop=True)  \n",
    "                    # alldata_recibidos = alldata_recibidos.sort_values(by='row_number', ascending=False).reset_index(drop=True)\n",
    "                i+=1\n",
    "        if len(alldata_emitidos) > 0:\n",
    "            data_nueva = alldata_emitidos[['Fecha', 'Tipo', 'Número Desde', 'Denominación Receptor', 'Imp. Total']].sort_values(by='Fecha', ascending=True)\n",
    "            excel_filepath = f'C:/Users/Marcos/Desktop/Oficina/Monotributo/{cuits.iloc[c, 0]}.xlsx'\n",
    "            data_excel = pd.read_excel(excel_filepath, sheet_name=\"COMPRAS NUEVO\", usecols=\"A:E\", skiprows=5)\n",
    "            data_excel = data_excel.append(data_nueva, ignore_index=True)\n",
    "            wb = openpyxl.load_workbook(excel_filepath)\n",
    "            sheet = wb['VENTAS NUEVO']\n",
    "            for row in sheet.iter_rows(min_row=7, max_row=sheet.max_row, min_col=1, max_col=5):\n",
    "                for cell in row:\n",
    "                    cell.value = None\n",
    "            for row_idx, row in enumerate(openpyxl.utils.dataframe.dataframe_to_rows(data_excel, index=False, header=False), 7):\n",
    "                for col_idx, value in enumerate(row, 1):\n",
    "                    sheet.cell(row=row_idx, column=col_idx, value=value)\n",
    "            wb.save(excel_filepath)\n",
    "        if len(alldata_recibidos) > 0:\n",
    "            data_nueva = alldata_recibidos[['Fecha', 'Tipo', 'Número Desde', 'Denominación Emisor', 'Imp. Total']].sort_values(by='Fecha', ascending=True)\n",
    "            excel_filepath = f'C:/Users/Marcos/Desktop/Oficina/Monotributo/{cuits.iloc[c, 0]}.xlsx'\n",
    "            data_excel = pd.read_excel(excel_filepath, sheet_name=\"COMPRAS NUEVO\", usecols=\"A:E\", skiprows=5)\n",
    "            data_excel = data_excel.append(data_nueva, ignore_index=True)\n",
    "            wb = openpyxl.load_workbook(excel_filepath)\n",
    "            sheet = wb['COMPRAS NUEVO']\n",
    "            for row in sheet.iter_rows(min_row=7, max_row=sheet.max_row, min_col=1, max_col=5):\n",
    "                for cell in row:\n",
    "                    cell.value = None\n",
    "            for row_idx, row in enumerate(openpyxl.utils.dataframe.dataframe_to_rows(data_excel, index=False, header=False), 7):\n",
    "                for col_idx, value in enumerate(row, 1):\n",
    "                    sheet.cell(row=row_idx, column=col_idx, value=value)\n",
    "            wb.save(excel_filepath)\n",
    "    else:\n",
    "        break\n"
   ]
  },
  {
   "cell_type": "code",
   "execution_count": null,
   "metadata": {},
   "outputs": [],
   "source": []
  },
  {
   "cell_type": "code",
   "execution_count": 23,
   "metadata": {},
   "outputs": [
    {
     "data": {
      "text/plain": [
       "range(0, 88)"
      ]
     },
     "execution_count": 23,
     "metadata": {},
     "output_type": "execute_result"
    }
   ],
   "source": [
    "if(length(all_data_emitidos) > 0){\n",
    "    data_final <- arrange(subset(all_data_emitidos, select = c('Fecha', 'Tipo', 'Número Desde', 'Denominación Receptor', 'Imp. Total')), desc(row_number()))\n",
    "    #colnames(data_final) <- c(\"Fecha\", \"Tipo\", \"Nro Factura\", \"Denom. Receptor\", \"Imp. Total\")\n",
    "    data_final$Fecha <- as.Date(data_final$Fecha, format = \"%d/%m/%Y\")\n",
    "    data_final <- data_final[order(data_final$Fecha), ]\n",
    "    data_final$Fecha <- format(data_final$Fecha, format = \"%d/%m/%Y\")\n",
    "    \n",
    "    file_path_a <- paste0(\"C:/Users/Marcos/Desktop/Oficina/Monotributo/\",clientes_cuit[c,1],\".xlsx\")\n",
    "    wb <- loadWorkbook(file_path_a)\n",
    "    excel_cliente <- read_xlsx(file_path_a, sheet = \"VENTAS NUEVO\", range = cell_cols(1:5))\n",
    "    size <- nrow(excel_cliente)\n",
    "    excel_cliente$Fecha <- format(excel_cliente$Fecha, format = \"%d/%m/%Y\")\n",
    "    excel_cliente <- rbind(excel_cliente,data_final)\n",
    "    writeData(wb, sheet = \"VENTAS NUEVO\", x = excel_cliente, startRow = 6, startCol = 1)\n",
    "    \n",
    "    for(i in 1:nrow(data_final)){\n",
    "      b=size+6+i\n",
    "      addStyle(wb, sheet = \"VENTAS NUEVO\", rows = b, cols = 1:5, style = createStyle(fontName = \"Calibri\", fontSize = 11))\n",
    "    }\n",
    "    addStyle(wb, sheet = \"VENTAS NUEVO\", rows = 7:(nrow(excel_cliente)+7), cols = 3, style =  createStyle(halign = \"center\", fontName = \"Calibri\", fontSize = 11))\n",
    "    saveWorkbook(wb, file_path_a, overwrite = TRUE)\n",
    "  }"
   ]
  },
  {
   "cell_type": "code",
   "execution_count": 12,
   "metadata": {},
   "outputs": [],
   "source": []
  },
  {
   "cell_type": "code",
   "execution_count": 24,
   "metadata": {},
   "outputs": [],
   "source": [
    "data_excel = pd.read_excel(excel_filepath, sheet_name=\"COMPRAS NUEVO\", usecols=\"A:E\", skiprows=5)"
   ]
  },
  {
   "cell_type": "code",
   "execution_count": 25,
   "metadata": {},
   "outputs": [
    {
     "data": {
      "text/html": [
       "<div>\n",
       "<style scoped>\n",
       "    .dataframe tbody tr th:only-of-type {\n",
       "        vertical-align: middle;\n",
       "    }\n",
       "\n",
       "    .dataframe tbody tr th {\n",
       "        vertical-align: top;\n",
       "    }\n",
       "\n",
       "    .dataframe thead th {\n",
       "        text-align: right;\n",
       "    }\n",
       "</style>\n",
       "<table border=\"1\" class=\"dataframe\">\n",
       "  <thead>\n",
       "    <tr style=\"text-align: right;\">\n",
       "      <th></th>\n",
       "      <th>Fecha</th>\n",
       "      <th>Tipo</th>\n",
       "      <th>Nro Desde</th>\n",
       "      <th>Denom. Emisor</th>\n",
       "      <th>Imp. Total</th>\n",
       "    </tr>\n",
       "  </thead>\n",
       "  <tbody>\n",
       "    <tr>\n",
       "      <th>0</th>\n",
       "      <td>2022-01-04</td>\n",
       "      <td>6 - Factura B</td>\n",
       "      <td>5892</td>\n",
       "      <td>MANSILLA E HIJO S.R.L.</td>\n",
       "      <td>64798.22</td>\n",
       "    </tr>\n",
       "    <tr>\n",
       "      <th>1</th>\n",
       "      <td>2022-01-07</td>\n",
       "      <td>6 - Factura B</td>\n",
       "      <td>34304</td>\n",
       "      <td>DISTRIBUIDORA DENVER S.R.L.</td>\n",
       "      <td>1941.30</td>\n",
       "    </tr>\n",
       "    <tr>\n",
       "      <th>2</th>\n",
       "      <td>2022-01-07</td>\n",
       "      <td>6 - Factura B</td>\n",
       "      <td>6801</td>\n",
       "      <td>TTC AUTO ARGENTINA S A</td>\n",
       "      <td>12993.00</td>\n",
       "    </tr>\n",
       "    <tr>\n",
       "      <th>3</th>\n",
       "      <td>2022-01-09</td>\n",
       "      <td>6 - Factura B</td>\n",
       "      <td>16360</td>\n",
       "      <td>GRAELLS NELSON ANTONIO</td>\n",
       "      <td>15500.00</td>\n",
       "    </tr>\n",
       "    <tr>\n",
       "      <th>4</th>\n",
       "      <td>2022-01-10</td>\n",
       "      <td>6 - Factura B</td>\n",
       "      <td>18850</td>\n",
       "      <td>GRAELLS NELSON ANTONIO</td>\n",
       "      <td>9500.00</td>\n",
       "    </tr>\n",
       "    <tr>\n",
       "      <th>5</th>\n",
       "      <td>2022-01-11</td>\n",
       "      <td>6 - Factura B</td>\n",
       "      <td>2339</td>\n",
       "      <td>VESPASIANI AUTOMOTORES SA</td>\n",
       "      <td>3700000.00</td>\n",
       "    </tr>\n",
       "    <tr>\n",
       "      <th>6</th>\n",
       "      <td>2022-01-21</td>\n",
       "      <td>15 - Recibo C</td>\n",
       "      <td>372268</td>\n",
       "      <td>ASOCIACION MUTUAL DE PROFESIONALES PARA LA ASI...</td>\n",
       "      <td>1700.00</td>\n",
       "    </tr>\n",
       "    <tr>\n",
       "      <th>7</th>\n",
       "      <td>2022-01-25</td>\n",
       "      <td>6 - Factura B</td>\n",
       "      <td>316007</td>\n",
       "      <td>ALVAREZ CABLE HOGAR SOCIEDAD ANONIMA</td>\n",
       "      <td>2725.00</td>\n",
       "    </tr>\n",
       "    <tr>\n",
       "      <th>8</th>\n",
       "      <td>2022-01-31</td>\n",
       "      <td>11 - Factura C</td>\n",
       "      <td>380</td>\n",
       "      <td>PIDELLO GABRIEL ALEJANDRO</td>\n",
       "      <td>2000.00</td>\n",
       "    </tr>\n",
       "    <tr>\n",
       "      <th>9</th>\n",
       "      <td>2022-01-31</td>\n",
       "      <td>1 - Factura A</td>\n",
       "      <td>5727222</td>\n",
       "      <td>TELECOM ARGENTINA SOCIEDAD ANONIMA</td>\n",
       "      <td>6827.62</td>\n",
       "    </tr>\n",
       "  </tbody>\n",
       "</table>\n",
       "</div>"
      ],
      "text/plain": [
       "       Fecha            Tipo  Nro Desde  \\\n",
       "0 2022-01-04   6 - Factura B       5892   \n",
       "1 2022-01-07   6 - Factura B      34304   \n",
       "2 2022-01-07   6 - Factura B       6801   \n",
       "3 2022-01-09   6 - Factura B      16360   \n",
       "4 2022-01-10   6 - Factura B      18850   \n",
       "5 2022-01-11   6 - Factura B       2339   \n",
       "6 2022-01-21   15 - Recibo C     372268   \n",
       "7 2022-01-25   6 - Factura B     316007   \n",
       "8 2022-01-31  11 - Factura C        380   \n",
       "9 2022-01-31   1 - Factura A    5727222   \n",
       "\n",
       "                                       Denom. Emisor  Imp. Total  \n",
       "0                             MANSILLA E HIJO S.R.L.    64798.22  \n",
       "1                        DISTRIBUIDORA DENVER S.R.L.     1941.30  \n",
       "2                             TTC AUTO ARGENTINA S A    12993.00  \n",
       "3                             GRAELLS NELSON ANTONIO    15500.00  \n",
       "4                             GRAELLS NELSON ANTONIO     9500.00  \n",
       "5                          VESPASIANI AUTOMOTORES SA  3700000.00  \n",
       "6  ASOCIACION MUTUAL DE PROFESIONALES PARA LA ASI...     1700.00  \n",
       "7               ALVAREZ CABLE HOGAR SOCIEDAD ANONIMA     2725.00  \n",
       "8                          PIDELLO GABRIEL ALEJANDRO     2000.00  \n",
       "9                 TELECOM ARGENTINA SOCIEDAD ANONIMA     6827.62  "
      ]
     },
     "execution_count": 25,
     "metadata": {},
     "output_type": "execute_result"
    }
   ],
   "source": [
    "data_excel.head(10)"
   ]
  }
 ],
 "metadata": {
  "kernelspec": {
   "display_name": "Python 3.10.10 64-bit",
   "language": "python",
   "name": "python3"
  },
  "language_info": {
   "codemirror_mode": {
    "name": "ipython",
    "version": 3
   },
   "file_extension": ".py",
   "mimetype": "text/x-python",
   "name": "python",
   "nbconvert_exporter": "python",
   "pygments_lexer": "ipython3",
   "version": "3.10.10"
  },
  "orig_nbformat": 4,
  "vscode": {
   "interpreter": {
    "hash": "b135b0e7559d507a7c9594984284614d9a5503c121ae1b789f2c8989ff99b9f5"
   }
  }
 },
 "nbformat": 4,
 "nbformat_minor": 2
}
