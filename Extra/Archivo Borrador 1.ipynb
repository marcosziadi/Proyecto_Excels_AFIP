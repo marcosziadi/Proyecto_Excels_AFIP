{
 "cells": [
  {
   "cell_type": "code",
   "execution_count": 1,
   "metadata": {},
   "outputs": [],
   "source": [
    "import os\n",
    "import pandas as pd\n",
    "import glob\n",
    "import openpyxl\n",
    "# from openpyxl import load_workbook\n",
    "from openpyxl.styles import Font, NamedStyle, Alignment\n",
    "from openpyxl.utils.dataframe import dataframe_to_rows\n",
    "import shutil\n",
    "import warnings"
   ]
  },
  {
   "cell_type": "code",
   "execution_count": 13,
   "metadata": {},
   "outputs": [],
   "source": [
    "def get_excel_files(user_name: str) -> list:\n",
    "    all_files = os.listdir(os.path.join(\"C:\\\\Users\",\"Marcos\",\"Desktop\", \"Meses\"))\n",
    "    excel_files = []\n",
    "    for file in all_files:\n",
    "        if file.endswith(\".xlsx\"):\n",
    "            excel_files.append(\"C:/Users/Marcos/Desktop/Meses/\" + file)\n",
    "    return excel_files"
   ]
  },
  {
   "cell_type": "code",
   "execution_count": 14,
   "metadata": {},
   "outputs": [],
   "source": [
    "def nota_de_credito(data_nueva: pd.DataFrame) -> pd.DataFrame:\n",
    "    for i in range(len(data_nueva)):\n",
    "        if \"Nota de Crédito\" in data_nueva.iloc[i,1]:\n",
    "            data_nueva.iloc[i,4] = data_nueva.iloc[i,4]*-1\n",
    "    return data_nueva"
   ]
  },
  {
   "cell_type": "code",
   "execution_count": 15,
   "metadata": {},
   "outputs": [],
   "source": [
    "def data_cronologica(data: pd.DataFrame) -> pd.DataFrame:\n",
    "    data['Fecha'] = pd.to_datetime(data['Fecha'], format='%d/%m/%Y')\n",
    "    data = data.sort_values(by='Fecha', ascending=True).reset_index(drop=True)\n",
    "    data['Fecha'] = data['Fecha'].dt.strftime('%d/%m/%Y') \n",
    "    return data"
   ]
  },
  {
   "cell_type": "code",
   "execution_count": 17,
   "metadata": {},
   "outputs": [],
   "source": [
    "cuits = pd.read_excel('C:/Users/Marcos/Desktop/PRUEBA CUITS.xlsx')\n",
    "nuevo_cliente = pd.Series([input(\"Ingrese el Nombre del Nuevo Cliente: \").upper(),\n",
    "                           input(\"Ingrese el CUIT del Nuevo Cliente: \")],\n",
    "                           index=cuits.columns)\n",
    "cuits = cuits.append(nuevo_cliente, ignore_index=True)\n",
    "cuits.to_excel('C:/Users/Marcos/Desktop/PRUEBA CUITS.xlsx', index=False)"
   ]
  },
  {
   "cell_type": "code",
   "execution_count": 2,
   "metadata": {},
   "outputs": [
    {
     "ename": "NameError",
     "evalue": "name 'get_excel_files' is not defined",
     "output_type": "error",
     "traceback": [
      "\u001b[1;31m---------------------------------------------------------------------------\u001b[0m",
      "\u001b[1;31mNameError\u001b[0m                                 Traceback (most recent call last)",
      "Cell \u001b[1;32mIn[2], line 1\u001b[0m\n\u001b[1;32m----> 1\u001b[0m file_paths \u001b[39m=\u001b[39m get_excel_files(\u001b[39m1\u001b[39m)\n\u001b[0;32m      2\u001b[0m alldata_emitidos \u001b[39m=\u001b[39m pd\u001b[39m.\u001b[39mDataFrame()\n\u001b[0;32m      3\u001b[0m alldata_recibidos \u001b[39m=\u001b[39m pd\u001b[39m.\u001b[39mDataFrame()\n",
      "\u001b[1;31mNameError\u001b[0m: name 'get_excel_files' is not defined"
     ]
    }
   ],
   "source": [
    "file_paths = get_excel_files(1)\n",
    "alldata_emitidos = pd.DataFrame()\n",
    "alldata_recibidos = pd.DataFrame()\n",
    "\n",
    "\n",
    "for file_path in file_paths:\n",
    "    if str(cuits.iloc[(len(cuits)-1),1]) in file_path:\n",
    "        if 'Emitidos' in file_path:\n",
    "            alldata_emitidos = pd.concat([alldata_emitidos, pd.read_excel(file_path,skiprows=1)], axis=0, ignore_index=True).reset_index(drop=True)\n",
    "        else:\n",
    "            alldata_recibidos = pd.concat([alldata_recibidos, pd.read_excel(file_path,skiprows=1)], axis=0, ignore_index=True).reset_index(drop=True)  \n",
    "source_file = \"C:/Users/Marcos/Desktop/Oficina/Monotributo/modelo.xlsx\"\n",
    "excel_file_path = f\"C:/Users/Marcos/Desktop/Oficina/Monotributo/{(cuits.iloc[(len(cuits)-1),0]).upper()}.xlsx\"\n",
    "shutil.copyfile(source_file, excel_file_path)\n",
    "\n",
    "\n",
    "if len(alldata_emitidos) > 0:\n",
    "    data_ventas = data_cronologica(alldata_emitidos[['Fecha', 'Tipo', 'Número Desde', 'Denominación Receptor', 'Imp. Total']])\n",
    "    data_ventas = nota_de_credito(data_ventas)\n",
    "    wb = openpyxl.load_workbook(excel_file_path)\n",
    "    sheet = wb['VENTAS NUEVO']\n",
    "    for row_idx, row_data in enumerate(data_ventas, start=7):\n",
    "        for col_idx, value in enumerate(row_data, start=1):\n",
    "            sheet.cell(row=row_idx, column=col_idx, value=value)\n",
    "    for row in wb[\"VENTAS NUEVO\"].iter_rows(min_row=7, max_row=len(data_ventas), min_col=1, max_col=5):\n",
    "        for cell in row:\n",
    "            cell.font = Font(name=\"Calibri\", size=11) \n",
    "            if cell.column == 1:\n",
    "                cell.alignment = Alignment(horizontal=\"right\")  \n",
    "            elif cell.column == 3:\n",
    "                cell.alignment = Alignment(horizontal=\"center\")  \n",
    "    wb.save(excel_file_path)\n",
    "if len(alldata_recibidos) > 0:\n",
    "    data_compras = data_cronologica(alldata_recibidos[['Fecha', 'Tipo', 'Número Desde', 'Denominación Emisor', 'Imp. Total']])\n",
    "    data_compras = nota_de_credito(data_compras)\n",
    "    wb = openpyxl.load_workbook(excel_file_path)\n",
    "    sheet = wb['COMPRAS NUEVO']\n",
    "    for row_idx, row_data in enumerate(data_compras, start=7):\n",
    "        for col_idx, value in enumerate(row_data, start=1):\n",
    "            sheet.cell(row=row_idx, column=col_idx, value=value)\n",
    "    for row in wb[\"COMPRAS NUEVO\"].iter_rows(min_row=7, max_row=len(data_compras), min_col=1, max_col=5):\n",
    "        for cell in row:\n",
    "            cell.font = Font(name=\"Calibri\", size=11) \n",
    "            if cell.column == 1:\n",
    "                cell.alignment = Alignment(horizontal=\"right\")  \n",
    "    wb.save(excel_file_path)\n"
   ]
  },
  {
   "cell_type": "code",
   "execution_count": 18,
   "metadata": {},
   "outputs": [
    {
     "name": "stderr",
     "output_type": "stream",
     "text": [
      "C:\\Users\\Marcos\\AppData\\Local\\Temp\\ipykernel_16024\\2376503356.py:2: SettingWithCopyWarning: \n",
      "A value is trying to be set on a copy of a slice from a DataFrame.\n",
      "Try using .loc[row_indexer,col_indexer] = value instead\n",
      "\n",
      "See the caveats in the documentation: https://pandas.pydata.org/pandas-docs/stable/user_guide/indexing.html#returning-a-view-versus-a-copy\n",
      "  data['Fecha'] = pd.to_datetime(data['Fecha'], format='%d/%m/%Y')\n"
     ]
    }
   ],
   "source": [
    "file_paths = get_excel_files(1)\n",
    "alldata_emitidos = pd.DataFrame()\n",
    "alldata_recibidos = pd.DataFrame()\n",
    "\n",
    "\n",
    "for file_path in file_paths:\n",
    "    if str(cuits.iloc[(len(cuits)-1),1]) in file_path:\n",
    "        if 'Emitidos' in file_path:\n",
    "            alldata_emitidos = pd.concat([alldata_emitidos, pd.read_excel(file_path,skiprows=1)], axis=0, ignore_index=True).reset_index(drop=True)\n",
    "        else:\n",
    "            alldata_recibidos = pd.concat([alldata_recibidos, pd.read_excel(file_path,skiprows=1)], axis=0, ignore_index=True).reset_index(drop=True)  \n",
    "source_file = \"C:/Users/Marcos/Desktop/Oficina/Monotributo/modelo.xlsx\"\n",
    "excel_file_path = f\"C:/Users/Marcos/Desktop/Oficina/Monotributo/{(cuits.iloc[(len(cuits)-1),0]).upper()}.xlsx\"\n",
    "shutil.copyfile(source_file, excel_file_path)\n",
    "\n",
    "\n",
    "if len(alldata_emitidos) > 0:\n",
    "    data_ventas = data_cronologica(alldata_emitidos[['Fecha', 'Tipo', 'Número Desde', 'Denominación Receptor', 'Imp. Total']])\n",
    "    data_ventas = nota_de_credito(data_ventas)\n",
    "    data_excel = pd.read_excel(excel_file_path, sheet_name=\"VENTAS NUEVO\", usecols=\"A:E\", skiprows=5)\n",
    "    size = len(data_excel)\n",
    "    wb = openpyxl.load_workbook(excel_file_path)\n",
    "    sheet = wb['VENTAS NUEVO']\n",
    "    for row_idx, row in enumerate(openpyxl.utils.dataframe.dataframe_to_rows(data_ventas, index=False, header=False), (size+7)):\n",
    "        for col_idx, value in enumerate(row, 1):\n",
    "            sheet.cell(row=row_idx, column=col_idx, value=value)\n",
    "    for row in wb[\"VENTAS NUEVO\"].iter_rows(min_row=(size+7), max_row=(size+len(data_ventas)+7), min_col=1, max_col=5):\n",
    "        for cell in row:\n",
    "            cell.font = Font(name=\"Calibri\", size=11) \n",
    "            if cell.column == 1:\n",
    "                cell.alignment = Alignment(horizontal=\"right\")  \n",
    "            elif cell.column == 3:\n",
    "                cell.alignment = Alignment(horizontal=\"center\")  \n",
    "    wb.save(excel_file_path)\n",
    "if len(alldata_recibidos) > 0:\n",
    "    data_compras = data_cronologica(alldata_recibidos[['Fecha', 'Tipo', 'Número Desde', 'Denominación Emisor', 'Imp. Total']])\n",
    "    data_compras = nota_de_credito(data_compras)\n",
    "    data_excel = pd.read_excel(excel_file_path, sheet_name=\"COMPRAS NUEVO\", usecols=\"A:E\", skiprows=5)\n",
    "    size = len(data_excel)\n",
    "    wb = openpyxl.load_workbook(excel_file_path)\n",
    "    sheet = wb['COMPRAS NUEVO']\n",
    "    for row_idx, row in enumerate(openpyxl.utils.dataframe.dataframe_to_rows(data_compras, index=False, header=False), (size+7)):\n",
    "        for col_idx, value in enumerate(row, 1):\n",
    "            sheet.cell(row=row_idx, column=col_idx, value=value)\n",
    "    for row in wb[\"COMPRAS NUEVO\"].iter_rows(min_row=(size+7), max_row=(size+len(data_compras)+7), min_col=1, max_col=5):\n",
    "        for cell in row:\n",
    "            cell.font = Font(name=\"Calibri\", size=11) \n",
    "            if cell.column == 1:\n",
    "                cell.alignment = Alignment(horizontal=\"right\")  \n",
    "    wb.save(excel_file_path)"
   ]
  },
  {
   "cell_type": "code",
   "execution_count": 3,
   "metadata": {},
   "outputs": [
    {
     "name": "stdout",
     "output_type": "stream",
     "text": [
      "BESSON PABLO | Notas Duplicadas | 5, 6\n",
      "\n",
      "\n",
      "LEIN | Facturas Faltantes | 230.0\n",
      "\n",
      "\n",
      "LUCERO ALEJANDRA | Facturas Faltantes | 277.0\n",
      "\n",
      "\n",
      "MELANO | Facturas Faltantes | 52, 65\n",
      "\n",
      "\n",
      "MUCHIUT EDUARDO | Facturas Duplicadas | 45, 46, 47, 48, 49, 50, 51, 52, 53, 54, 55, 56, 57\n",
      "\n",
      "\n",
      "PASOTTI SANDRA | Facturas Faltantes | 153.0\n",
      "\n",
      "\n",
      "ROLANDO GABRIELA | Facturas Faltantes | 664.0\n",
      "ROLANDO GABRIELA | Notas Faltantes | 11\n",
      "ROLANDO GABRIELA | Notas Duplicadas | 12\n",
      "\n",
      "\n"
     ]
    },
    {
     "ename": "KeyboardInterrupt",
     "evalue": "",
     "output_type": "error",
     "traceback": [
      "\u001b[1;31m---------------------------------------------------------------------------\u001b[0m",
      "\u001b[1;31mKeyboardInterrupt\u001b[0m                         Traceback (most recent call last)",
      "Cell \u001b[1;32mIn[3], line 19\u001b[0m\n\u001b[0;32m     16\u001b[0m \u001b[39mif\u001b[39;00m \u001b[39mnot\u001b[39;00m sheet_exists:\n\u001b[0;32m     17\u001b[0m     \u001b[39m# print(f\"No hay hoja de ventas en el Excel de {cuits.iloc[c, 0]}\\n\\n\")\u001b[39;00m\n\u001b[0;32m     18\u001b[0m     \u001b[39mcontinue\u001b[39;00m\n\u001b[1;32m---> 19\u001b[0m data_excel \u001b[39m=\u001b[39m pd\u001b[39m.\u001b[39;49mread_excel(excel_filepath, sheet_name\u001b[39m=\u001b[39;49m\u001b[39m\"\u001b[39;49m\u001b[39mVENTAS NUEVO\u001b[39;49m\u001b[39m\"\u001b[39;49m, usecols\u001b[39m=\u001b[39;49m\u001b[39m\"\u001b[39;49m\u001b[39mA:E\u001b[39;49m\u001b[39m\"\u001b[39;49m, skiprows\u001b[39m=\u001b[39;49m\u001b[39m5\u001b[39;49m)\n\u001b[0;32m     20\u001b[0m facturas \u001b[39m=\u001b[39m []\n\u001b[0;32m     21\u001b[0m factura_faltante \u001b[39m=\u001b[39m []\n",
      "File \u001b[1;32mc:\\Users\\Marcos\\AppData\\Local\\Programs\\Python\\Python310\\lib\\site-packages\\pandas\\util\\_decorators.py:211\u001b[0m, in \u001b[0;36mdeprecate_kwarg.<locals>._deprecate_kwarg.<locals>.wrapper\u001b[1;34m(*args, **kwargs)\u001b[0m\n\u001b[0;32m    209\u001b[0m     \u001b[39melse\u001b[39;00m:\n\u001b[0;32m    210\u001b[0m         kwargs[new_arg_name] \u001b[39m=\u001b[39m new_arg_value\n\u001b[1;32m--> 211\u001b[0m \u001b[39mreturn\u001b[39;00m func(\u001b[39m*\u001b[39margs, \u001b[39m*\u001b[39m\u001b[39m*\u001b[39mkwargs)\n",
      "File \u001b[1;32mc:\\Users\\Marcos\\AppData\\Local\\Programs\\Python\\Python310\\lib\\site-packages\\pandas\\util\\_decorators.py:317\u001b[0m, in \u001b[0;36mdeprecate_nonkeyword_arguments.<locals>.decorate.<locals>.wrapper\u001b[1;34m(*args, **kwargs)\u001b[0m\n\u001b[0;32m    311\u001b[0m \u001b[39mif\u001b[39;00m \u001b[39mlen\u001b[39m(args) \u001b[39m>\u001b[39m num_allow_args:\n\u001b[0;32m    312\u001b[0m     warnings\u001b[39m.\u001b[39mwarn(\n\u001b[0;32m    313\u001b[0m         msg\u001b[39m.\u001b[39mformat(arguments\u001b[39m=\u001b[39marguments),\n\u001b[0;32m    314\u001b[0m         \u001b[39mFutureWarning\u001b[39;00m,\n\u001b[0;32m    315\u001b[0m         stacklevel\u001b[39m=\u001b[39mfind_stack_level(inspect\u001b[39m.\u001b[39mcurrentframe()),\n\u001b[0;32m    316\u001b[0m     )\n\u001b[1;32m--> 317\u001b[0m \u001b[39mreturn\u001b[39;00m func(\u001b[39m*\u001b[39margs, \u001b[39m*\u001b[39m\u001b[39m*\u001b[39mkwargs)\n",
      "File \u001b[1;32mc:\\Users\\Marcos\\AppData\\Local\\Programs\\Python\\Python310\\lib\\site-packages\\pandas\\io\\excel\\_base.py:491\u001b[0m, in \u001b[0;36mread_excel\u001b[1;34m(io, sheet_name, header, names, index_col, usecols, squeeze, dtype, engine, converters, true_values, false_values, skiprows, nrows, na_values, keep_default_na, na_filter, verbose, parse_dates, date_parser, thousands, decimal, comment, skipfooter, convert_float, mangle_dupe_cols, storage_options)\u001b[0m\n\u001b[0;32m    485\u001b[0m     \u001b[39mraise\u001b[39;00m \u001b[39mValueError\u001b[39;00m(\n\u001b[0;32m    486\u001b[0m         \u001b[39m\"\u001b[39m\u001b[39mEngine should not be specified when passing \u001b[39m\u001b[39m\"\u001b[39m\n\u001b[0;32m    487\u001b[0m         \u001b[39m\"\u001b[39m\u001b[39man ExcelFile - ExcelFile already has the engine set\u001b[39m\u001b[39m\"\u001b[39m\n\u001b[0;32m    488\u001b[0m     )\n\u001b[0;32m    490\u001b[0m \u001b[39mtry\u001b[39;00m:\n\u001b[1;32m--> 491\u001b[0m     data \u001b[39m=\u001b[39m io\u001b[39m.\u001b[39;49mparse(\n\u001b[0;32m    492\u001b[0m         sheet_name\u001b[39m=\u001b[39;49msheet_name,\n\u001b[0;32m    493\u001b[0m         header\u001b[39m=\u001b[39;49mheader,\n\u001b[0;32m    494\u001b[0m         names\u001b[39m=\u001b[39;49mnames,\n\u001b[0;32m    495\u001b[0m         index_col\u001b[39m=\u001b[39;49mindex_col,\n\u001b[0;32m    496\u001b[0m         usecols\u001b[39m=\u001b[39;49musecols,\n\u001b[0;32m    497\u001b[0m         squeeze\u001b[39m=\u001b[39;49msqueeze,\n\u001b[0;32m    498\u001b[0m         dtype\u001b[39m=\u001b[39;49mdtype,\n\u001b[0;32m    499\u001b[0m         converters\u001b[39m=\u001b[39;49mconverters,\n\u001b[0;32m    500\u001b[0m         true_values\u001b[39m=\u001b[39;49mtrue_values,\n\u001b[0;32m    501\u001b[0m         false_values\u001b[39m=\u001b[39;49mfalse_values,\n\u001b[0;32m    502\u001b[0m         skiprows\u001b[39m=\u001b[39;49mskiprows,\n\u001b[0;32m    503\u001b[0m         nrows\u001b[39m=\u001b[39;49mnrows,\n\u001b[0;32m    504\u001b[0m         na_values\u001b[39m=\u001b[39;49mna_values,\n\u001b[0;32m    505\u001b[0m         keep_default_na\u001b[39m=\u001b[39;49mkeep_default_na,\n\u001b[0;32m    506\u001b[0m         na_filter\u001b[39m=\u001b[39;49mna_filter,\n\u001b[0;32m    507\u001b[0m         verbose\u001b[39m=\u001b[39;49mverbose,\n\u001b[0;32m    508\u001b[0m         parse_dates\u001b[39m=\u001b[39;49mparse_dates,\n\u001b[0;32m    509\u001b[0m         date_parser\u001b[39m=\u001b[39;49mdate_parser,\n\u001b[0;32m    510\u001b[0m         thousands\u001b[39m=\u001b[39;49mthousands,\n\u001b[0;32m    511\u001b[0m         decimal\u001b[39m=\u001b[39;49mdecimal,\n\u001b[0;32m    512\u001b[0m         comment\u001b[39m=\u001b[39;49mcomment,\n\u001b[0;32m    513\u001b[0m         skipfooter\u001b[39m=\u001b[39;49mskipfooter,\n\u001b[0;32m    514\u001b[0m         convert_float\u001b[39m=\u001b[39;49mconvert_float,\n\u001b[0;32m    515\u001b[0m         mangle_dupe_cols\u001b[39m=\u001b[39;49mmangle_dupe_cols,\n\u001b[0;32m    516\u001b[0m     )\n\u001b[0;32m    517\u001b[0m \u001b[39mfinally\u001b[39;00m:\n\u001b[0;32m    518\u001b[0m     \u001b[39m# make sure to close opened file handles\u001b[39;00m\n\u001b[0;32m    519\u001b[0m     \u001b[39mif\u001b[39;00m should_close:\n",
      "File \u001b[1;32mc:\\Users\\Marcos\\AppData\\Local\\Programs\\Python\\Python310\\lib\\site-packages\\pandas\\io\\excel\\_base.py:1711\u001b[0m, in \u001b[0;36mExcelFile.parse\u001b[1;34m(self, sheet_name, header, names, index_col, usecols, squeeze, converters, true_values, false_values, skiprows, nrows, na_values, parse_dates, date_parser, thousands, comment, skipfooter, convert_float, mangle_dupe_cols, **kwds)\u001b[0m\n\u001b[0;32m   1677\u001b[0m \u001b[39mdef\u001b[39;00m \u001b[39mparse\u001b[39m(\n\u001b[0;32m   1678\u001b[0m     \u001b[39mself\u001b[39m,\n\u001b[0;32m   1679\u001b[0m     sheet_name: \u001b[39mstr\u001b[39m \u001b[39m|\u001b[39m \u001b[39mint\u001b[39m \u001b[39m|\u001b[39m \u001b[39mlist\u001b[39m[\u001b[39mint\u001b[39m] \u001b[39m|\u001b[39m \u001b[39mlist\u001b[39m[\u001b[39mstr\u001b[39m] \u001b[39m|\u001b[39m \u001b[39mNone\u001b[39;00m \u001b[39m=\u001b[39m \u001b[39m0\u001b[39m,\n\u001b[1;32m   (...)\u001b[0m\n\u001b[0;32m   1698\u001b[0m     \u001b[39m*\u001b[39m\u001b[39m*\u001b[39mkwds,\n\u001b[0;32m   1699\u001b[0m ) \u001b[39m-\u001b[39m\u001b[39m>\u001b[39m DataFrame \u001b[39m|\u001b[39m \u001b[39mdict\u001b[39m[\u001b[39mstr\u001b[39m, DataFrame] \u001b[39m|\u001b[39m \u001b[39mdict\u001b[39m[\u001b[39mint\u001b[39m, DataFrame]:\n\u001b[0;32m   1700\u001b[0m \u001b[39m    \u001b[39m\u001b[39m\"\"\"\u001b[39;00m\n\u001b[0;32m   1701\u001b[0m \u001b[39m    Parse specified sheet(s) into a DataFrame.\u001b[39;00m\n\u001b[0;32m   1702\u001b[0m \n\u001b[1;32m   (...)\u001b[0m\n\u001b[0;32m   1709\u001b[0m \u001b[39m        DataFrame from the passed in Excel file.\u001b[39;00m\n\u001b[0;32m   1710\u001b[0m \u001b[39m    \"\"\"\u001b[39;00m\n\u001b[1;32m-> 1711\u001b[0m     \u001b[39mreturn\u001b[39;00m \u001b[39mself\u001b[39m\u001b[39m.\u001b[39m_reader\u001b[39m.\u001b[39mparse(\n\u001b[0;32m   1712\u001b[0m         sheet_name\u001b[39m=\u001b[39msheet_name,\n\u001b[0;32m   1713\u001b[0m         header\u001b[39m=\u001b[39mheader,\n\u001b[0;32m   1714\u001b[0m         names\u001b[39m=\u001b[39mnames,\n\u001b[0;32m   1715\u001b[0m         index_col\u001b[39m=\u001b[39mindex_col,\n\u001b[0;32m   1716\u001b[0m         usecols\u001b[39m=\u001b[39musecols,\n\u001b[0;32m   1717\u001b[0m         squeeze\u001b[39m=\u001b[39msqueeze,\n\u001b[0;32m   1718\u001b[0m         converters\u001b[39m=\u001b[39mconverters,\n\u001b[0;32m   1719\u001b[0m         true_values\u001b[39m=\u001b[39mtrue_values,\n\u001b[0;32m   1720\u001b[0m         false_values\u001b[39m=\u001b[39mfalse_values,\n\u001b[0;32m   1721\u001b[0m         skiprows\u001b[39m=\u001b[39mskiprows,\n\u001b[0;32m   1722\u001b[0m         nrows\u001b[39m=\u001b[39mnrows,\n\u001b[0;32m   1723\u001b[0m         na_values\u001b[39m=\u001b[39mna_values,\n\u001b[0;32m   1724\u001b[0m         parse_dates\u001b[39m=\u001b[39mparse_dates,\n\u001b[0;32m   1725\u001b[0m         date_parser\u001b[39m=\u001b[39mdate_parser,\n\u001b[0;32m   1726\u001b[0m         thousands\u001b[39m=\u001b[39mthousands,\n\u001b[0;32m   1727\u001b[0m         comment\u001b[39m=\u001b[39mcomment,\n\u001b[0;32m   1728\u001b[0m         skipfooter\u001b[39m=\u001b[39mskipfooter,\n\u001b[0;32m   1729\u001b[0m         convert_float\u001b[39m=\u001b[39mconvert_float,\n\u001b[0;32m   1730\u001b[0m         mangle_dupe_cols\u001b[39m=\u001b[39mmangle_dupe_cols,\n\u001b[0;32m   1731\u001b[0m         \u001b[39m*\u001b[39m\u001b[39m*\u001b[39mkwds,\n\u001b[0;32m   1732\u001b[0m     )\n",
      "File \u001b[1;32mc:\\Users\\Marcos\\AppData\\Local\\Programs\\Python\\Python310\\lib\\site-packages\\pandas\\io\\excel\\_base.py:766\u001b[0m, in \u001b[0;36mBaseExcelReader.parse\u001b[1;34m(self, sheet_name, header, names, index_col, usecols, squeeze, dtype, true_values, false_values, skiprows, nrows, na_values, verbose, parse_dates, date_parser, thousands, decimal, comment, skipfooter, convert_float, mangle_dupe_cols, **kwds)\u001b[0m\n\u001b[0;32m    763\u001b[0m     sheet \u001b[39m=\u001b[39m \u001b[39mself\u001b[39m\u001b[39m.\u001b[39mget_sheet_by_index(asheetname)\n\u001b[0;32m    765\u001b[0m file_rows_needed \u001b[39m=\u001b[39m \u001b[39mself\u001b[39m\u001b[39m.\u001b[39m_calc_rows(header, index_col, skiprows, nrows)\n\u001b[1;32m--> 766\u001b[0m data \u001b[39m=\u001b[39m \u001b[39mself\u001b[39;49m\u001b[39m.\u001b[39;49mget_sheet_data(sheet, convert_float, file_rows_needed)\n\u001b[0;32m    767\u001b[0m \u001b[39mif\u001b[39;00m \u001b[39mhasattr\u001b[39m(sheet, \u001b[39m\"\u001b[39m\u001b[39mclose\u001b[39m\u001b[39m\"\u001b[39m):\n\u001b[0;32m    768\u001b[0m     \u001b[39m# pyxlsb opens two TemporaryFiles\u001b[39;00m\n\u001b[0;32m    769\u001b[0m     sheet\u001b[39m.\u001b[39mclose()\n",
      "File \u001b[1;32mc:\\Users\\Marcos\\AppData\\Local\\Programs\\Python\\Python310\\lib\\site-packages\\pandas\\io\\excel\\_openpyxl.py:607\u001b[0m, in \u001b[0;36mOpenpyxlReader.get_sheet_data\u001b[1;34m(self, sheet, convert_float, file_rows_needed)\u001b[0m\n\u001b[0;32m    605\u001b[0m data: \u001b[39mlist\u001b[39m[\u001b[39mlist\u001b[39m[Scalar]] \u001b[39m=\u001b[39m []\n\u001b[0;32m    606\u001b[0m last_row_with_data \u001b[39m=\u001b[39m \u001b[39m-\u001b[39m\u001b[39m1\u001b[39m\n\u001b[1;32m--> 607\u001b[0m \u001b[39mfor\u001b[39;00m row_number, row \u001b[39min\u001b[39;00m \u001b[39menumerate\u001b[39m(sheet\u001b[39m.\u001b[39mrows):\n\u001b[0;32m    608\u001b[0m     converted_row \u001b[39m=\u001b[39m [\u001b[39mself\u001b[39m\u001b[39m.\u001b[39m_convert_cell(cell, convert_float) \u001b[39mfor\u001b[39;00m cell \u001b[39min\u001b[39;00m row]\n\u001b[0;32m    609\u001b[0m     \u001b[39mwhile\u001b[39;00m converted_row \u001b[39mand\u001b[39;00m converted_row[\u001b[39m-\u001b[39m\u001b[39m1\u001b[39m] \u001b[39m==\u001b[39m \u001b[39m\"\u001b[39m\u001b[39m\"\u001b[39m:\n\u001b[0;32m    610\u001b[0m         \u001b[39m# trim trailing empty elements\u001b[39;00m\n",
      "File \u001b[1;32mc:\\Users\\Marcos\\AppData\\Local\\Programs\\Python\\Python310\\lib\\site-packages\\openpyxl\\worksheet\\_read_only.py:81\u001b[0m, in \u001b[0;36mReadOnlyWorksheet._cells_by_row\u001b[1;34m(self, min_col, min_row, max_col, max_row, values_only)\u001b[0m\n\u001b[0;32m     77\u001b[0m src \u001b[39m=\u001b[39m \u001b[39mself\u001b[39m\u001b[39m.\u001b[39m_get_source()\n\u001b[0;32m     78\u001b[0m parser \u001b[39m=\u001b[39m WorkSheetParser(src, \u001b[39mself\u001b[39m\u001b[39m.\u001b[39m_shared_strings,\n\u001b[0;32m     79\u001b[0m                          data_only\u001b[39m=\u001b[39m\u001b[39mself\u001b[39m\u001b[39m.\u001b[39mparent\u001b[39m.\u001b[39mdata_only, epoch\u001b[39m=\u001b[39m\u001b[39mself\u001b[39m\u001b[39m.\u001b[39mparent\u001b[39m.\u001b[39mepoch,\n\u001b[0;32m     80\u001b[0m                          date_formats\u001b[39m=\u001b[39m\u001b[39mself\u001b[39m\u001b[39m.\u001b[39mparent\u001b[39m.\u001b[39m_date_formats)\n\u001b[1;32m---> 81\u001b[0m \u001b[39mfor\u001b[39;00m idx, row \u001b[39min\u001b[39;00m parser\u001b[39m.\u001b[39mparse():\n\u001b[0;32m     82\u001b[0m     \u001b[39mif\u001b[39;00m max_row \u001b[39mis\u001b[39;00m \u001b[39mnot\u001b[39;00m \u001b[39mNone\u001b[39;00m \u001b[39mand\u001b[39;00m idx \u001b[39m>\u001b[39m max_row:\n\u001b[0;32m     83\u001b[0m         \u001b[39mbreak\u001b[39;00m\n",
      "File \u001b[1;32mc:\\Users\\Marcos\\AppData\\Local\\Programs\\Python\\Python310\\lib\\site-packages\\openpyxl\\worksheet\\_reader.py:156\u001b[0m, in \u001b[0;36mWorkSheetParser.parse\u001b[1;34m(self)\u001b[0m\n\u001b[0;32m    137\u001b[0m properties \u001b[39m=\u001b[39m {\n\u001b[0;32m    138\u001b[0m     PRINT_TAG: (\u001b[39m'\u001b[39m\u001b[39mprint_options\u001b[39m\u001b[39m'\u001b[39m, PrintOptions),\n\u001b[0;32m    139\u001b[0m     MARGINS_TAG: (\u001b[39m'\u001b[39m\u001b[39mpage_margins\u001b[39m\u001b[39m'\u001b[39m, PageMargins),\n\u001b[1;32m   (...)\u001b[0m\n\u001b[0;32m    151\u001b[0m \n\u001b[0;32m    152\u001b[0m }\n\u001b[0;32m    154\u001b[0m it \u001b[39m=\u001b[39m iterparse(\u001b[39mself\u001b[39m\u001b[39m.\u001b[39msource) \u001b[39m# add a finaliser to close the source when this becomes possible\u001b[39;00m\n\u001b[1;32m--> 156\u001b[0m \u001b[39mfor\u001b[39;00m _, element \u001b[39min\u001b[39;00m it:\n\u001b[0;32m    157\u001b[0m     tag_name \u001b[39m=\u001b[39m element\u001b[39m.\u001b[39mtag\n\u001b[0;32m    158\u001b[0m     \u001b[39mif\u001b[39;00m tag_name \u001b[39min\u001b[39;00m dispatcher:\n",
      "File \u001b[1;32mc:\\Users\\Marcos\\AppData\\Local\\Programs\\Python\\Python310\\lib\\xml\\etree\\ElementTree.py:1255\u001b[0m, in \u001b[0;36miterparse.<locals>.iterator\u001b[1;34m(source)\u001b[0m\n\u001b[0;32m   1253\u001b[0m \u001b[39myield from\u001b[39;00m pullparser\u001b[39m.\u001b[39mread_events()\n\u001b[0;32m   1254\u001b[0m \u001b[39m# load event buffer\u001b[39;00m\n\u001b[1;32m-> 1255\u001b[0m data \u001b[39m=\u001b[39m source\u001b[39m.\u001b[39;49mread(\u001b[39m16\u001b[39;49m \u001b[39m*\u001b[39;49m \u001b[39m1024\u001b[39;49m)\n\u001b[0;32m   1256\u001b[0m \u001b[39mif\u001b[39;00m \u001b[39mnot\u001b[39;00m data:\n\u001b[0;32m   1257\u001b[0m     \u001b[39mbreak\u001b[39;00m\n",
      "File \u001b[1;32mc:\\Users\\Marcos\\AppData\\Local\\Programs\\Python\\Python310\\lib\\zipfile.py:925\u001b[0m, in \u001b[0;36mZipExtFile.read\u001b[1;34m(self, n)\u001b[0m\n\u001b[0;32m    923\u001b[0m \u001b[39mself\u001b[39m\u001b[39m.\u001b[39m_offset \u001b[39m=\u001b[39m \u001b[39m0\u001b[39m\n\u001b[0;32m    924\u001b[0m \u001b[39mwhile\u001b[39;00m n \u001b[39m>\u001b[39m \u001b[39m0\u001b[39m \u001b[39mand\u001b[39;00m \u001b[39mnot\u001b[39;00m \u001b[39mself\u001b[39m\u001b[39m.\u001b[39m_eof:\n\u001b[1;32m--> 925\u001b[0m     data \u001b[39m=\u001b[39m \u001b[39mself\u001b[39;49m\u001b[39m.\u001b[39;49m_read1(n)\n\u001b[0;32m    926\u001b[0m     \u001b[39mif\u001b[39;00m n \u001b[39m<\u001b[39m \u001b[39mlen\u001b[39m(data):\n\u001b[0;32m    927\u001b[0m         \u001b[39mself\u001b[39m\u001b[39m.\u001b[39m_readbuffer \u001b[39m=\u001b[39m data\n",
      "File \u001b[1;32mc:\\Users\\Marcos\\AppData\\Local\\Programs\\Python\\Python310\\lib\\zipfile.py:1001\u001b[0m, in \u001b[0;36mZipExtFile._read1\u001b[1;34m(self, n)\u001b[0m\n\u001b[0;32m    999\u001b[0m \u001b[39melif\u001b[39;00m \u001b[39mself\u001b[39m\u001b[39m.\u001b[39m_compress_type \u001b[39m==\u001b[39m ZIP_DEFLATED:\n\u001b[0;32m   1000\u001b[0m     n \u001b[39m=\u001b[39m \u001b[39mmax\u001b[39m(n, \u001b[39mself\u001b[39m\u001b[39m.\u001b[39mMIN_READ_SIZE)\n\u001b[1;32m-> 1001\u001b[0m     data \u001b[39m=\u001b[39m \u001b[39mself\u001b[39;49m\u001b[39m.\u001b[39;49m_decompressor\u001b[39m.\u001b[39;49mdecompress(data, n)\n\u001b[0;32m   1002\u001b[0m     \u001b[39mself\u001b[39m\u001b[39m.\u001b[39m_eof \u001b[39m=\u001b[39m (\u001b[39mself\u001b[39m\u001b[39m.\u001b[39m_decompressor\u001b[39m.\u001b[39meof \u001b[39mor\u001b[39;00m\n\u001b[0;32m   1003\u001b[0m                  \u001b[39mself\u001b[39m\u001b[39m.\u001b[39m_compress_left \u001b[39m<\u001b[39m\u001b[39m=\u001b[39m \u001b[39m0\u001b[39m \u001b[39mand\u001b[39;00m\n\u001b[0;32m   1004\u001b[0m                  \u001b[39mnot\u001b[39;00m \u001b[39mself\u001b[39m\u001b[39m.\u001b[39m_decompressor\u001b[39m.\u001b[39munconsumed_tail)\n\u001b[0;32m   1005\u001b[0m     \u001b[39mif\u001b[39;00m \u001b[39mself\u001b[39m\u001b[39m.\u001b[39m_eof:\n",
      "\u001b[1;31mKeyboardInterrupt\u001b[0m: "
     ]
    }
   ],
   "source": [
    "import os\n",
    "import pandas as pd\n",
    "import warnings\n",
    "import math\n",
    "\n",
    "cuits = pd.read_excel('C:/Users/Marcos/Desktop/CUITS.xlsx')\n",
    "warnings.filterwarnings(\"ignore\")\n",
    "for c in range(len(cuits)): # len(cuits)\n",
    "# while c!=\"pene\":\n",
    "    # c=int(input(\"Valor de c: \"))\n",
    "    # os.system('cls')\n",
    "    # input(\"hola: \")\n",
    "    excel_filepath = f'C:/Users/Marcos/Desktop/Monotributo/{cuits.iloc[c, 0]}.xlsx'\n",
    "    with pd.ExcelFile(excel_filepath) as xls:\n",
    "        sheet_exists = \"VENTAS NUEVO\" in xls.sheet_names\n",
    "    if not sheet_exists:\n",
    "        # print(f\"No hay hoja de ventas en el Excel de {cuits.iloc[c, 0]}\\n\\n\")\n",
    "        continue\n",
    "    data_excel = pd.read_excel(excel_filepath, sheet_name=\"VENTAS NUEVO\", usecols=\"A:E\", skiprows=5)\n",
    "    facturas = []\n",
    "    factura_faltante = []\n",
    "    duplicado_factura = []\n",
    "    notas = []\n",
    "    notas_faltante = []\n",
    "    duplicado_nota = []\n",
    "    data_excel['Fecha'] = pd.to_datetime(data_excel['Fecha'])\n",
    "    data_excel['Fecha'] = data_excel['Fecha'].dt.strftime('%d/%m/%Y') \n",
    "    data_excel['Fecha'] = pd.to_datetime(data_excel['Fecha'], format='%d/%m/%Y')\n",
    "    target_date = pd.to_datetime('2022-01-01')\n",
    "    for i in range(len(data_excel)):\n",
    "        data_excel_date = pd.to_datetime(data_excel.iloc[i, 0], format='%d/%m/%Y')\n",
    "        if data_excel.iloc[i,0] >= target_date:\n",
    "            if 'Nota' in str(data_excel.iloc[i,1]):\n",
    "                if not math.isnan(data_excel.iloc[i,2]):\n",
    "                    notas.append(data_excel.iloc[i,2])\n",
    "            else:\n",
    "                if not math.isnan(data_excel.iloc[i,2]):\n",
    "                    facturas.append(data_excel.iloc[i,2])\n",
    "    \n",
    "    facturas.sort()\n",
    "    for i in range(len(facturas)-1):\n",
    "        if facturas[i]!=(int(facturas[i+1])-1):\n",
    "            if facturas[i]==facturas[i+1]:\n",
    "                duplicado_factura.append(facturas[i])\n",
    "            else:\n",
    "                factura_faltante.append(facturas[i+1]-1)\n",
    "    \n",
    "    notas.sort()\n",
    "    for i in range(len(notas)-1):\n",
    "        if notas[i]!=(int(notas[i+1])-1):\n",
    "            if notas[i]==notas[i+1]:\n",
    "                duplicado_nota.append(int(notas[i]))\n",
    "            else:\n",
    "                notas_faltante.append(int(notas[i+1]-1))\n",
    "    variable=0\n",
    "    if len(factura_faltante)>0:\n",
    "        lista = ', '.join(map(str, factura_faltante))\n",
    "        print(cuits.iloc[c,0],\"| Facturas Faltantes |\",lista)\n",
    "        # print(facturas)\n",
    "        variable=1\n",
    "    if  len(duplicado_factura)>0:\n",
    "        lista1 = ', '.join(map(str, duplicado_factura))\n",
    "        print(cuits.iloc[c,0],\"| Facturas Duplicadas |\",lista1)\n",
    "        variable=1\n",
    "    if  len(notas_faltante)>0:\n",
    "        lista = ', '.join(map(str, notas_faltante))\n",
    "        print(cuits.iloc[c,0],\"| Notas Faltantes |\",lista)\n",
    "        # print(notas)\n",
    "        variable=1\n",
    "    if  len(duplicado_nota)>0:\n",
    "        lista1 = ', '.join(map(str, duplicado_nota))\n",
    "        print(cuits.iloc[c,0],\"| Notas Duplicadas |\",lista1)\n",
    "        variable=1\n",
    "    if variable==1:\n",
    "        print(\"\\n\")    "
   ]
  },
  {
   "cell_type": "code",
   "execution_count": 2,
   "metadata": {},
   "outputs": [
    {
     "name": "stdout",
     "output_type": "stream",
     "text": [
      "[2, 2, 8, 8, 12, 12, 4, 45, 8787, 10000, 10000]\n"
     ]
    }
   ],
   "source": [
    "my_list = [1,1, 7, 7, 11, 11, 4, 45,8787,9999,9999]\n",
    "for i in range(len(my_list)-1):\n",
    "    if my_list[i]==my_list[i+1]:\n",
    "        my_list[i]=my_list[i]+1\n",
    "        my_list[i+1]=my_list[i+1]+1\n",
    "print(list(set(my_list)))"
   ]
  }
 ],
 "metadata": {
  "kernelspec": {
   "display_name": "Python 3.10.10 64-bit",
   "language": "python",
   "name": "python3"
  },
  "language_info": {
   "codemirror_mode": {
    "name": "ipython",
    "version": 3
   },
   "file_extension": ".py",
   "mimetype": "text/x-python",
   "name": "python",
   "nbconvert_exporter": "python",
   "pygments_lexer": "ipython3",
   "version": "3.10.10"
  },
  "orig_nbformat": 4,
  "vscode": {
   "interpreter": {
    "hash": "b135b0e7559d507a7c9594984284614d9a5503c121ae1b789f2c8989ff99b9f5"
   }
  }
 },
 "nbformat": 4,
 "nbformat_minor": 2
}
