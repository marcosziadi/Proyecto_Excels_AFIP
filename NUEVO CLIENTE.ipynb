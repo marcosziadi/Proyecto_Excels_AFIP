{
 "cells": [
  {
   "cell_type": "code",
   "execution_count": 1,
   "metadata": {},
   "outputs": [],
   "source": [
    "import os\n",
    "import pandas as pd\n",
    "import glob\n",
    "import openpyxl\n",
    "# from openpyxl import load_workbook\n",
    "from openpyxl.styles import Font, NamedStyle, Alignment\n",
    "from openpyxl.utils.dataframe import dataframe_to_rows\n",
    "import shutil"
   ]
  },
  {
   "cell_type": "code",
   "execution_count": 2,
   "metadata": {},
   "outputs": [],
   "source": [
    "def get_excel_files(user_name: str) -> list:\n",
    "    all_files = os.listdir(os.path.join(\"C:\\\\Users\",\"Marcos\",\"Desktop\", \"Meses\"))\n",
    "    excel_files = []\n",
    "    for file in all_files:\n",
    "        if file.endswith(\".xlsx\"):\n",
    "            excel_files.append(\"C:/Users/Marcos/Desktop/Meses/\" + file)\n",
    "    return excel_files"
   ]
  },
  {
   "cell_type": "code",
   "execution_count": 3,
   "metadata": {},
   "outputs": [],
   "source": [
    "def nota_de_credito(data_nueva: pd.DataFrame) -> pd.DataFrame:\n",
    "    for i in range(len(data_nueva)):\n",
    "        if \"Nota de Crédito\" in data_nueva.iloc[i,1]:\n",
    "            data_nueva.iloc[i,4] = data_nueva.iloc[i,4]*-1\n",
    "    return data_nueva"
   ]
  },
  {
   "cell_type": "code",
   "execution_count": 4,
   "metadata": {},
   "outputs": [],
   "source": [
    "def data_cronologica(data: pd.DataFrame) -> pd.DataFrame:\n",
    "    data['Fecha'] = pd.to_datetime(data['Fecha'], format='%d/%m/%Y')\n",
    "    data = data.sort_values(by='Fecha', ascending=True).reset_index(drop=True)\n",
    "    data['Fecha'] = data['Fecha'].dt.strftime('%d/%m/%Y') \n",
    "    return data"
   ]
  },
  {
   "cell_type": "code",
   "execution_count": 5,
   "metadata": {},
   "outputs": [
    {
     "name": "stderr",
     "output_type": "stream",
     "text": [
      "C:\\Users\\Marcos\\AppData\\Local\\Temp\\ipykernel_12964\\1886972364.py:5: FutureWarning: The frame.append method is deprecated and will be removed from pandas in a future version. Use pandas.concat instead.\n",
      "  cuits = cuits.append(nuevo_cliente, ignore_index=True)\n"
     ]
    }
   ],
   "source": [
    "cuits = pd.read_excel('C:/Users/Marcos/Desktop/PRUEBA CUITS.xlsx')\n",
    "nuevo_cliente = pd.Series([input(\"Ingrese el Nombre del Nuevo Cliente: \"),\n",
    "                           input(\"Ingrese el CUIT del Nuevo Cliente: \")],\n",
    "                           index=cuits.columns)\n",
    "cuits = cuits.append(nuevo_cliente, ignore_index=True)\n",
    "cuits.to_excel('C:/Users/Marcos/Desktop/PRUEBA CUITS.xlsx', index=False)"
   ]
  },
  {
   "cell_type": "code",
   "execution_count": 22,
   "metadata": {},
   "outputs": [
    {
     "name": "stderr",
     "output_type": "stream",
     "text": [
      "C:\\Users\\Marcos\\AppData\\Local\\Temp\\ipykernel_6440\\2376503356.py:2: SettingWithCopyWarning: \n",
      "A value is trying to be set on a copy of a slice from a DataFrame.\n",
      "Try using .loc[row_indexer,col_indexer] = value instead\n",
      "\n",
      "See the caveats in the documentation: https://pandas.pydata.org/pandas-docs/stable/user_guide/indexing.html#returning-a-view-versus-a-copy\n",
      "  data['Fecha'] = pd.to_datetime(data['Fecha'], format='%d/%m/%Y')\n",
      "C:\\Users\\Marcos\\AppData\\Local\\Temp\\ipykernel_6440\\2376503356.py:2: SettingWithCopyWarning: \n",
      "A value is trying to be set on a copy of a slice from a DataFrame.\n",
      "Try using .loc[row_indexer,col_indexer] = value instead\n",
      "\n",
      "See the caveats in the documentation: https://pandas.pydata.org/pandas-docs/stable/user_guide/indexing.html#returning-a-view-versus-a-copy\n",
      "  data['Fecha'] = pd.to_datetime(data['Fecha'], format='%d/%m/%Y')\n"
     ]
    }
   ],
   "source": [
    "file_paths = get_excel_files(1)\n",
    "alldata_emitidos = pd.DataFrame()\n",
    "alldata_recibidos = pd.DataFrame()\n",
    "\n",
    "\n",
    "for file_path in file_paths:\n",
    "    if str(cuits.iloc[(len(cuits)-1),1]) in file_path:\n",
    "        if 'Emitidos' in file_path:\n",
    "            alldata_emitidos = pd.concat([alldata_emitidos, pd.read_excel(file_path,skiprows=1)], axis=0, ignore_index=True).reset_index(drop=True)\n",
    "        else:\n",
    "            alldata_recibidos = pd.concat([alldata_recibidos, pd.read_excel(file_path,skiprows=1)], axis=0, ignore_index=True).reset_index(drop=True)  \n",
    "source_file = \"C:/Users/Marcos/Desktop/Oficina/Monotributo/modelo.xlsx\"\n",
    "excel_file_path = f\"C:/Users/Marcos/Desktop/Oficina/Monotributo/{(cuits.iloc[(len(cuits)-1),0]).upper()}.xlsx\"\n",
    "shutil.copyfile(source_file, excel_file_path)\n",
    "\n",
    "\n",
    "if len(alldata_emitidos) > 0:\n",
    "    data_ventas = data_cronologica(alldata_emitidos[['Fecha', 'Tipo', 'Número Desde', 'Denominación Receptor', 'Imp. Total']])\n",
    "    data_ventas = nota_de_credito(data_ventas)\n",
    "    wb = openpyxl.load_workbook(excel_file_path)\n",
    "    sheet = wb['VENTAS NUEVO']\n",
    "    for row_idx, row_data in enumerate(data_ventas, start=7):\n",
    "        for col_idx, value in enumerate(row_data, start=1):\n",
    "            sheet.cell(row=row_idx, column=col_idx, value=value)\n",
    "    for row in wb[\"VENTAS NUEVO\"].iter_rows(min_row=7, max_row=len(data_ventas), min_col=1, max_col=5):\n",
    "        for cell in row:\n",
    "            cell.font = Font(name=\"Calibri\", size=11) \n",
    "            if cell.column == 1:\n",
    "                cell.alignment = Alignment(horizontal=\"right\")  \n",
    "            elif cell.column == 3:\n",
    "                cell.alignment = Alignment(horizontal=\"center\")  \n",
    "    wb.save(excel_file_path)\n",
    "if len(alldata_recibidos) > 0:\n",
    "    data_compras = data_cronologica(alldata_recibidos[['Fecha', 'Tipo', 'Número Desde', 'Denominación Emisor', 'Imp. Total']])\n",
    "    data_compras = nota_de_credito(data_compras)\n",
    "    wb = openpyxl.load_workbook(excel_file_path)\n",
    "    sheet = wb['COMPRAS NUEVO']\n",
    "    for row_idx, row_data in enumerate(data_compras, start=7):\n",
    "        for col_idx, value in enumerate(row_data, start=1):\n",
    "            sheet.cell(row=row_idx, column=col_idx, value=value)\n",
    "    for row in wb[\"COMPRAS NUEVO\"].iter_rows(min_row=7, max_row=len(data_compras), min_col=1, max_col=5):\n",
    "        for cell in row:\n",
    "            cell.font = Font(name=\"Calibri\", size=11) \n",
    "            if cell.column == 1:\n",
    "                cell.alignment = Alignment(horizontal=\"right\")  \n",
    "    wb.save(excel_file_path)\n"
   ]
  },
  {
   "cell_type": "code",
   "execution_count": 6,
   "metadata": {},
   "outputs": [
    {
     "name": "stderr",
     "output_type": "stream",
     "text": [
      "C:\\Users\\Marcos\\AppData\\Local\\Temp\\ipykernel_12964\\2376503356.py:2: SettingWithCopyWarning: \n",
      "A value is trying to be set on a copy of a slice from a DataFrame.\n",
      "Try using .loc[row_indexer,col_indexer] = value instead\n",
      "\n",
      "See the caveats in the documentation: https://pandas.pydata.org/pandas-docs/stable/user_guide/indexing.html#returning-a-view-versus-a-copy\n",
      "  data['Fecha'] = pd.to_datetime(data['Fecha'], format='%d/%m/%Y')\n",
      "C:\\Users\\Marcos\\AppData\\Local\\Temp\\ipykernel_12964\\2376503356.py:2: SettingWithCopyWarning: \n",
      "A value is trying to be set on a copy of a slice from a DataFrame.\n",
      "Try using .loc[row_indexer,col_indexer] = value instead\n",
      "\n",
      "See the caveats in the documentation: https://pandas.pydata.org/pandas-docs/stable/user_guide/indexing.html#returning-a-view-versus-a-copy\n",
      "  data['Fecha'] = pd.to_datetime(data['Fecha'], format='%d/%m/%Y')\n"
     ]
    }
   ],
   "source": [
    "file_paths = get_excel_files(1)\n",
    "alldata_emitidos = pd.DataFrame()\n",
    "alldata_recibidos = pd.DataFrame()\n",
    "\n",
    "\n",
    "for file_path in file_paths:\n",
    "    if str(cuits.iloc[(len(cuits)-1),1]) in file_path:\n",
    "        if 'Emitidos' in file_path:\n",
    "            alldata_emitidos = pd.concat([alldata_emitidos, pd.read_excel(file_path,skiprows=1)], axis=0, ignore_index=True).reset_index(drop=True)\n",
    "        else:\n",
    "            alldata_recibidos = pd.concat([alldata_recibidos, pd.read_excel(file_path,skiprows=1)], axis=0, ignore_index=True).reset_index(drop=True)  \n",
    "source_file = \"C:/Users/Marcos/Desktop/Oficina/Monotributo/modelo.xlsx\"\n",
    "excel_file_path = f\"C:/Users/Marcos/Desktop/Oficina/Monotributo/{(cuits.iloc[(len(cuits)-1),0]).upper()}.xlsx\"\n",
    "shutil.copyfile(source_file, excel_file_path)\n",
    "\n",
    "\n",
    "if len(alldata_emitidos) > 0:\n",
    "    data_ventas = data_cronologica(alldata_emitidos[['Fecha', 'Tipo', 'Número Desde', 'Denominación Receptor', 'Imp. Total']])\n",
    "    data_ventas = nota_de_credito(data_ventas)\n",
    "    data_excel = pd.read_excel(excel_file_path, sheet_name=\"VENTAS NUEVO\", usecols=\"A:E\", skiprows=5)\n",
    "    size = len(data_excel)\n",
    "    wb = openpyxl.load_workbook(excel_file_path)\n",
    "    sheet = wb['VENTAS NUEVO']\n",
    "    for row_idx, row in enumerate(openpyxl.utils.dataframe.dataframe_to_rows(data_ventas, index=False, header=False), (size+7)):\n",
    "        for col_idx, value in enumerate(row, 1):\n",
    "            sheet.cell(row=row_idx, column=col_idx, value=value)\n",
    "    for row in wb[\"VENTAS NUEVO\"].iter_rows(min_row=(size+7), max_row=(size+len(data_ventas)+7), min_col=1, max_col=5):\n",
    "        for cell in row:\n",
    "            cell.font = Font(name=\"Calibri\", size=11) \n",
    "            if cell.column == 1:\n",
    "                cell.alignment = Alignment(horizontal=\"right\")  \n",
    "            elif cell.column == 3:\n",
    "                cell.alignment = Alignment(horizontal=\"center\")  \n",
    "    wb.save(excel_file_path)\n",
    "if len(alldata_recibidos) > 0:\n",
    "    data_compras = data_cronologica(alldata_recibidos[['Fecha', 'Tipo', 'Número Desde', 'Denominación Emisor', 'Imp. Total']])\n",
    "    data_compras = nota_de_credito(data_compras)\n",
    "    data_excel = pd.read_excel(excel_file_path, sheet_name=\"COMPRAS NUEVO\", usecols=\"A:E\", skiprows=5)\n",
    "    size = len(data_excel)\n",
    "    wb = openpyxl.load_workbook(excel_file_path)\n",
    "    sheet = wb['COMPRAS NUEVO']\n",
    "    for row_idx, row in enumerate(openpyxl.utils.dataframe.dataframe_to_rows(data_compras, index=False, header=False), (size+7)):\n",
    "        for col_idx, value in enumerate(row, 1):\n",
    "            sheet.cell(row=row_idx, column=col_idx, value=value)\n",
    "    for row in wb[\"COMPRAS NUEVO\"].iter_rows(min_row=(size+7), max_row=(size+len(data_compras)+7), min_col=1, max_col=5):\n",
    "        for cell in row:\n",
    "            cell.font = Font(name=\"Calibri\", size=11) \n",
    "            if cell.column == 1:\n",
    "                cell.alignment = Alignment(horizontal=\"right\")  \n",
    "    wb.save(excel_file_path)"
   ]
  }
 ],
 "metadata": {
  "kernelspec": {
   "display_name": "Python 3.10.10 64-bit",
   "language": "python",
   "name": "python3"
  },
  "language_info": {
   "codemirror_mode": {
    "name": "ipython",
    "version": 3
   },
   "file_extension": ".py",
   "mimetype": "text/x-python",
   "name": "python",
   "nbconvert_exporter": "python",
   "pygments_lexer": "ipython3",
   "version": "3.10.10"
  },
  "orig_nbformat": 4,
  "vscode": {
   "interpreter": {
    "hash": "b135b0e7559d507a7c9594984284614d9a5503c121ae1b789f2c8989ff99b9f5"
   }
  }
 },
 "nbformat": 4,
 "nbformat_minor": 2
}
