{
 "cells": [
  {
   "cell_type": "code",
   "execution_count": 12,
   "metadata": {},
   "outputs": [],
   "source": [
    "import os\n",
    "import pandas as pd\n",
    "import glob\n",
    "import openpyxl\n",
    "# from openpyxl import load_workbook\n",
    "from openpyxl.styles import Font, NamedStyle, Alignment\n",
    "from openpyxl.utils.dataframe import dataframe_to_rows\n",
    "import shutil"
   ]
  },
  {
   "cell_type": "code",
   "execution_count": 13,
   "metadata": {},
   "outputs": [],
   "source": [
    "def get_excel_files(user_name: str) -> list:\n",
    "    all_files = os.listdir(os.path.join(\"C:\\\\Users\",\"Marcos\",\"Desktop\", \"Meses\"))\n",
    "    excel_files = []\n",
    "    for file in all_files:\n",
    "        if file.endswith(\".xlsx\"):\n",
    "            excel_files.append(\"C:/Users/Marcos/Desktop/Meses/\" + file)\n",
    "    return excel_files"
   ]
  },
  {
   "cell_type": "code",
   "execution_count": 14,
   "metadata": {},
   "outputs": [],
   "source": [
    "def nota_de_credito(data_nueva: pd.DataFrame) -> pd.DataFrame:\n",
    "    for i in range(len(data_nueva)):\n",
    "        if \"Nota de Crédito\" in data_nueva.iloc[i,1]:\n",
    "            data_nueva.iloc[i,4] = data_nueva.iloc[i,4]*-1\n",
    "    return data_nueva"
   ]
  },
  {
   "cell_type": "code",
   "execution_count": 15,
   "metadata": {},
   "outputs": [],
   "source": [
    "def data_cronologica(data: pd.DataFrame) -> pd.DataFrame:\n",
    "    data['Fecha'] = pd.to_datetime(data['Fecha'], format='%d/%m/%Y')\n",
    "    data = data.sort_values(by='Fecha', ascending=True).reset_index(drop=True)\n",
    "    data['Fecha'] = data['Fecha'].dt.strftime('%d/%m/%Y') \n",
    "    return data"
   ]
  },
  {
   "cell_type": "code",
   "execution_count": 17,
   "metadata": {},
   "outputs": [],
   "source": [
    "cuits = pd.read_excel('C:/Users/Marcos/Desktop/PRUEBA CUITS.xlsx')\n",
    "nuevo_cliente = pd.Series([input(\"Ingrese el Nombre del Nuevo Cliente: \").upper(),\n",
    "                           input(\"Ingrese el CUIT del Nuevo Cliente: \")],\n",
    "                           index=cuits.columns)\n",
    "cuits = cuits.append(nuevo_cliente, ignore_index=True)\n",
    "cuits.to_excel('C:/Users/Marcos/Desktop/PRUEBA CUITS.xlsx', index=False)"
   ]
  },
  {
   "cell_type": "code",
   "execution_count": 16,
   "metadata": {},
   "outputs": [
    {
     "name": "stderr",
     "output_type": "stream",
     "text": [
      "C:\\Users\\Marcos\\AppData\\Local\\Temp\\ipykernel_16024\\2376503356.py:2: SettingWithCopyWarning: \n",
      "A value is trying to be set on a copy of a slice from a DataFrame.\n",
      "Try using .loc[row_indexer,col_indexer] = value instead\n",
      "\n",
      "See the caveats in the documentation: https://pandas.pydata.org/pandas-docs/stable/user_guide/indexing.html#returning-a-view-versus-a-copy\n",
      "  data['Fecha'] = pd.to_datetime(data['Fecha'], format='%d/%m/%Y')\n"
     ]
    },
    {
     "ename": "InvalidFileException",
     "evalue": "openpyxl does not support  file format, please check you can open it with Excel first. Supported formats are: .xlsx,.xlsm,.xltx,.xltm",
     "output_type": "error",
     "traceback": [
      "\u001b[1;31m---------------------------------------------------------------------------\u001b[0m",
      "\u001b[1;31mInvalidFileException\u001b[0m                      Traceback (most recent call last)",
      "Cell \u001b[1;32mIn[16], line 20\u001b[0m\n\u001b[0;32m     18\u001b[0m data_ventas \u001b[39m=\u001b[39m data_cronologica(alldata_emitidos[[\u001b[39m'\u001b[39m\u001b[39mFecha\u001b[39m\u001b[39m'\u001b[39m, \u001b[39m'\u001b[39m\u001b[39mTipo\u001b[39m\u001b[39m'\u001b[39m, \u001b[39m'\u001b[39m\u001b[39mNúmero Desde\u001b[39m\u001b[39m'\u001b[39m, \u001b[39m'\u001b[39m\u001b[39mDenominación Receptor\u001b[39m\u001b[39m'\u001b[39m, \u001b[39m'\u001b[39m\u001b[39mImp. Total\u001b[39m\u001b[39m'\u001b[39m]])\n\u001b[0;32m     19\u001b[0m data_ventas \u001b[39m=\u001b[39m nota_de_credito(data_ventas)\n\u001b[1;32m---> 20\u001b[0m wb \u001b[39m=\u001b[39m openpyxl\u001b[39m.\u001b[39;49mload_workbook(excel_file_path)\n\u001b[0;32m     21\u001b[0m sheet \u001b[39m=\u001b[39m wb[\u001b[39m'\u001b[39m\u001b[39mVENTAS NUEVO\u001b[39m\u001b[39m'\u001b[39m]\n\u001b[0;32m     22\u001b[0m \u001b[39mfor\u001b[39;00m row_idx, row_data \u001b[39min\u001b[39;00m \u001b[39menumerate\u001b[39m(data_ventas, start\u001b[39m=\u001b[39m\u001b[39m7\u001b[39m):\n",
      "File \u001b[1;32mc:\\Users\\Marcos\\AppData\\Local\\Programs\\Python\\Python310\\lib\\site-packages\\openpyxl\\reader\\excel.py:344\u001b[0m, in \u001b[0;36mload_workbook\u001b[1;34m(filename, read_only, keep_vba, data_only, keep_links, rich_text)\u001b[0m\n\u001b[0;32m    314\u001b[0m \u001b[39mdef\u001b[39;00m \u001b[39mload_workbook\u001b[39m(filename, read_only\u001b[39m=\u001b[39m\u001b[39mFalse\u001b[39;00m, keep_vba\u001b[39m=\u001b[39mKEEP_VBA,\n\u001b[0;32m    315\u001b[0m                   data_only\u001b[39m=\u001b[39m\u001b[39mFalse\u001b[39;00m, keep_links\u001b[39m=\u001b[39m\u001b[39mTrue\u001b[39;00m, rich_text\u001b[39m=\u001b[39m\u001b[39mFalse\u001b[39;00m):\n\u001b[0;32m    316\u001b[0m \u001b[39m    \u001b[39m\u001b[39m\"\"\"Open the given filename and return the workbook\u001b[39;00m\n\u001b[0;32m    317\u001b[0m \n\u001b[0;32m    318\u001b[0m \u001b[39m    :param filename: the path to open or a file-like object\u001b[39;00m\n\u001b[1;32m   (...)\u001b[0m\n\u001b[0;32m    342\u001b[0m \n\u001b[0;32m    343\u001b[0m \u001b[39m    \"\"\"\u001b[39;00m\n\u001b[1;32m--> 344\u001b[0m     reader \u001b[39m=\u001b[39m ExcelReader(filename, read_only, keep_vba,\n\u001b[0;32m    345\u001b[0m                          data_only, keep_links, rich_text)\n\u001b[0;32m    346\u001b[0m     reader\u001b[39m.\u001b[39mread()\n\u001b[0;32m    347\u001b[0m     \u001b[39mreturn\u001b[39;00m reader\u001b[39m.\u001b[39mwb\n",
      "File \u001b[1;32mc:\\Users\\Marcos\\AppData\\Local\\Programs\\Python\\Python310\\lib\\site-packages\\openpyxl\\reader\\excel.py:123\u001b[0m, in \u001b[0;36mExcelReader.__init__\u001b[1;34m(self, fn, read_only, keep_vba, data_only, keep_links, rich_text)\u001b[0m\n\u001b[0;32m    121\u001b[0m \u001b[39mdef\u001b[39;00m \u001b[39m__init__\u001b[39m(\u001b[39mself\u001b[39m, fn, read_only\u001b[39m=\u001b[39m\u001b[39mFalse\u001b[39;00m, keep_vba\u001b[39m=\u001b[39mKEEP_VBA,\n\u001b[0;32m    122\u001b[0m              data_only\u001b[39m=\u001b[39m\u001b[39mFalse\u001b[39;00m, keep_links\u001b[39m=\u001b[39m\u001b[39mTrue\u001b[39;00m, rich_text\u001b[39m=\u001b[39m\u001b[39mFalse\u001b[39;00m):\n\u001b[1;32m--> 123\u001b[0m     \u001b[39mself\u001b[39m\u001b[39m.\u001b[39marchive \u001b[39m=\u001b[39m _validate_archive(fn)\n\u001b[0;32m    124\u001b[0m     \u001b[39mself\u001b[39m\u001b[39m.\u001b[39mvalid_files \u001b[39m=\u001b[39m \u001b[39mself\u001b[39m\u001b[39m.\u001b[39marchive\u001b[39m.\u001b[39mnamelist()\n\u001b[0;32m    125\u001b[0m     \u001b[39mself\u001b[39m\u001b[39m.\u001b[39mread_only \u001b[39m=\u001b[39m read_only\n",
      "File \u001b[1;32mc:\\Users\\Marcos\\AppData\\Local\\Programs\\Python\\Python310\\lib\\site-packages\\openpyxl\\reader\\excel.py:93\u001b[0m, in \u001b[0;36m_validate_archive\u001b[1;34m(filename)\u001b[0m\n\u001b[0;32m     87\u001b[0m         \u001b[39melse\u001b[39;00m:\n\u001b[0;32m     88\u001b[0m             msg \u001b[39m=\u001b[39m (\u001b[39m'\u001b[39m\u001b[39mopenpyxl does not support \u001b[39m\u001b[39m%s\u001b[39;00m\u001b[39m file format, \u001b[39m\u001b[39m'\u001b[39m\n\u001b[0;32m     89\u001b[0m                    \u001b[39m'\u001b[39m\u001b[39mplease check you can open \u001b[39m\u001b[39m'\u001b[39m\n\u001b[0;32m     90\u001b[0m                    \u001b[39m'\u001b[39m\u001b[39mit with Excel first. \u001b[39m\u001b[39m'\u001b[39m\n\u001b[0;32m     91\u001b[0m                    \u001b[39m'\u001b[39m\u001b[39mSupported formats are: \u001b[39m\u001b[39m%s\u001b[39;00m\u001b[39m'\u001b[39m) \u001b[39m%\u001b[39m (file_format,\n\u001b[0;32m     92\u001b[0m                                                    \u001b[39m'\u001b[39m\u001b[39m,\u001b[39m\u001b[39m'\u001b[39m\u001b[39m.\u001b[39mjoin(SUPPORTED_FORMATS))\n\u001b[1;32m---> 93\u001b[0m         \u001b[39mraise\u001b[39;00m InvalidFileException(msg)\n\u001b[0;32m     95\u001b[0m archive \u001b[39m=\u001b[39m ZipFile(filename, \u001b[39m'\u001b[39m\u001b[39mr\u001b[39m\u001b[39m'\u001b[39m)\n\u001b[0;32m     96\u001b[0m \u001b[39mreturn\u001b[39;00m archive\n",
      "\u001b[1;31mInvalidFileException\u001b[0m: openpyxl does not support  file format, please check you can open it with Excel first. Supported formats are: .xlsx,.xlsm,.xltx,.xltm"
     ]
    }
   ],
   "source": [
    "file_paths = get_excel_files(1)\n",
    "alldata_emitidos = pd.DataFrame()\n",
    "alldata_recibidos = pd.DataFrame()\n",
    "\n",
    "\n",
    "for file_path in file_paths:\n",
    "    if str(cuits.iloc[(len(cuits)-1),1]) in file_path:\n",
    "        if 'Emitidos' in file_path:\n",
    "            alldata_emitidos = pd.concat([alldata_emitidos, pd.read_excel(file_path,skiprows=1)], axis=0, ignore_index=True).reset_index(drop=True)\n",
    "        else:\n",
    "            alldata_recibidos = pd.concat([alldata_recibidos, pd.read_excel(file_path,skiprows=1)], axis=0, ignore_index=True).reset_index(drop=True)  \n",
    "source_file = \"C:/Users/Marcos/Desktop/Oficina/Monotributo/modelo.xlsx\"\n",
    "excel_file_path = f\"C:/Users/Marcos/Desktop/Oficina/Monotributo/{(cuits.iloc[(len(cuits)-1),0]).upper()}.xlsx\"\n",
    "shutil.copyfile(source_file, excel_file_path)\n",
    "\n",
    "\n",
    "if len(alldata_emitidos) > 0:\n",
    "    data_ventas = data_cronologica(alldata_emitidos[['Fecha', 'Tipo', 'Número Desde', 'Denominación Receptor', 'Imp. Total']])\n",
    "    data_ventas = nota_de_credito(data_ventas)\n",
    "    wb = openpyxl.load_workbook(excel_file_path)\n",
    "    sheet = wb['VENTAS NUEVO']\n",
    "    for row_idx, row_data in enumerate(data_ventas, start=7):\n",
    "        for col_idx, value in enumerate(row_data, start=1):\n",
    "            sheet.cell(row=row_idx, column=col_idx, value=value)\n",
    "    for row in wb[\"VENTAS NUEVO\"].iter_rows(min_row=7, max_row=len(data_ventas), min_col=1, max_col=5):\n",
    "        for cell in row:\n",
    "            cell.font = Font(name=\"Calibri\", size=11) \n",
    "            if cell.column == 1:\n",
    "                cell.alignment = Alignment(horizontal=\"right\")  \n",
    "            elif cell.column == 3:\n",
    "                cell.alignment = Alignment(horizontal=\"center\")  \n",
    "    wb.save(excel_file_path)\n",
    "if len(alldata_recibidos) > 0:\n",
    "    data_compras = data_cronologica(alldata_recibidos[['Fecha', 'Tipo', 'Número Desde', 'Denominación Emisor', 'Imp. Total']])\n",
    "    data_compras = nota_de_credito(data_compras)\n",
    "    wb = openpyxl.load_workbook(excel_file_path)\n",
    "    sheet = wb['COMPRAS NUEVO']\n",
    "    for row_idx, row_data in enumerate(data_compras, start=7):\n",
    "        for col_idx, value in enumerate(row_data, start=1):\n",
    "            sheet.cell(row=row_idx, column=col_idx, value=value)\n",
    "    for row in wb[\"COMPRAS NUEVO\"].iter_rows(min_row=7, max_row=len(data_compras), min_col=1, max_col=5):\n",
    "        for cell in row:\n",
    "            cell.font = Font(name=\"Calibri\", size=11) \n",
    "            if cell.column == 1:\n",
    "                cell.alignment = Alignment(horizontal=\"right\")  \n",
    "    wb.save(excel_file_path)\n"
   ]
  },
  {
   "cell_type": "code",
   "execution_count": 18,
   "metadata": {},
   "outputs": [
    {
     "name": "stderr",
     "output_type": "stream",
     "text": [
      "C:\\Users\\Marcos\\AppData\\Local\\Temp\\ipykernel_16024\\2376503356.py:2: SettingWithCopyWarning: \n",
      "A value is trying to be set on a copy of a slice from a DataFrame.\n",
      "Try using .loc[row_indexer,col_indexer] = value instead\n",
      "\n",
      "See the caveats in the documentation: https://pandas.pydata.org/pandas-docs/stable/user_guide/indexing.html#returning-a-view-versus-a-copy\n",
      "  data['Fecha'] = pd.to_datetime(data['Fecha'], format='%d/%m/%Y')\n"
     ]
    }
   ],
   "source": [
    "file_paths = get_excel_files(1)\n",
    "alldata_emitidos = pd.DataFrame()\n",
    "alldata_recibidos = pd.DataFrame()\n",
    "\n",
    "\n",
    "for file_path in file_paths:\n",
    "    if str(cuits.iloc[(len(cuits)-1),1]) in file_path:\n",
    "        if 'Emitidos' in file_path:\n",
    "            alldata_emitidos = pd.concat([alldata_emitidos, pd.read_excel(file_path,skiprows=1)], axis=0, ignore_index=True).reset_index(drop=True)\n",
    "        else:\n",
    "            alldata_recibidos = pd.concat([alldata_recibidos, pd.read_excel(file_path,skiprows=1)], axis=0, ignore_index=True).reset_index(drop=True)  \n",
    "source_file = \"C:/Users/Marcos/Desktop/Oficina/Monotributo/modelo.xlsx\"\n",
    "excel_file_path = f\"C:/Users/Marcos/Desktop/Oficina/Monotributo/{(cuits.iloc[(len(cuits)-1),0]).upper()}.xlsx\"\n",
    "shutil.copyfile(source_file, excel_file_path)\n",
    "\n",
    "\n",
    "if len(alldata_emitidos) > 0:\n",
    "    data_ventas = data_cronologica(alldata_emitidos[['Fecha', 'Tipo', 'Número Desde', 'Denominación Receptor', 'Imp. Total']])\n",
    "    data_ventas = nota_de_credito(data_ventas)\n",
    "    data_excel = pd.read_excel(excel_file_path, sheet_name=\"VENTAS NUEVO\", usecols=\"A:E\", skiprows=5)\n",
    "    size = len(data_excel)\n",
    "    wb = openpyxl.load_workbook(excel_file_path)\n",
    "    sheet = wb['VENTAS NUEVO']\n",
    "    for row_idx, row in enumerate(openpyxl.utils.dataframe.dataframe_to_rows(data_ventas, index=False, header=False), (size+7)):\n",
    "        for col_idx, value in enumerate(row, 1):\n",
    "            sheet.cell(row=row_idx, column=col_idx, value=value)\n",
    "    for row in wb[\"VENTAS NUEVO\"].iter_rows(min_row=(size+7), max_row=(size+len(data_ventas)+7), min_col=1, max_col=5):\n",
    "        for cell in row:\n",
    "            cell.font = Font(name=\"Calibri\", size=11) \n",
    "            if cell.column == 1:\n",
    "                cell.alignment = Alignment(horizontal=\"right\")  \n",
    "            elif cell.column == 3:\n",
    "                cell.alignment = Alignment(horizontal=\"center\")  \n",
    "    wb.save(excel_file_path)\n",
    "if len(alldata_recibidos) > 0:\n",
    "    data_compras = data_cronologica(alldata_recibidos[['Fecha', 'Tipo', 'Número Desde', 'Denominación Emisor', 'Imp. Total']])\n",
    "    data_compras = nota_de_credito(data_compras)\n",
    "    data_excel = pd.read_excel(excel_file_path, sheet_name=\"COMPRAS NUEVO\", usecols=\"A:E\", skiprows=5)\n",
    "    size = len(data_excel)\n",
    "    wb = openpyxl.load_workbook(excel_file_path)\n",
    "    sheet = wb['COMPRAS NUEVO']\n",
    "    for row_idx, row in enumerate(openpyxl.utils.dataframe.dataframe_to_rows(data_compras, index=False, header=False), (size+7)):\n",
    "        for col_idx, value in enumerate(row, 1):\n",
    "            sheet.cell(row=row_idx, column=col_idx, value=value)\n",
    "    for row in wb[\"COMPRAS NUEVO\"].iter_rows(min_row=(size+7), max_row=(size+len(data_compras)+7), min_col=1, max_col=5):\n",
    "        for cell in row:\n",
    "            cell.font = Font(name=\"Calibri\", size=11) \n",
    "            if cell.column == 1:\n",
    "                cell.alignment = Alignment(horizontal=\"right\")  \n",
    "    wb.save(excel_file_path)"
   ]
  },
  {
   "cell_type": "code",
   "execution_count": 10,
   "metadata": {},
   "outputs": [
    {
     "data": {
      "text/plain": [
       "'LORENZETTI GUSTAVO'"
      ]
     },
     "execution_count": 10,
     "metadata": {},
     "output_type": "execute_result"
    }
   ],
   "source": []
  }
 ],
 "metadata": {
  "kernelspec": {
   "display_name": "Python 3.10.10 64-bit",
   "language": "python",
   "name": "python3"
  },
  "language_info": {
   "codemirror_mode": {
    "name": "ipython",
    "version": 3
   },
   "file_extension": ".py",
   "mimetype": "text/x-python",
   "name": "python",
   "nbconvert_exporter": "python",
   "pygments_lexer": "ipython3",
   "version": "3.10.10"
  },
  "orig_nbformat": 4,
  "vscode": {
   "interpreter": {
    "hash": "b135b0e7559d507a7c9594984284614d9a5503c121ae1b789f2c8989ff99b9f5"
   }
  }
 },
 "nbformat": 4,
 "nbformat_minor": 2
}
